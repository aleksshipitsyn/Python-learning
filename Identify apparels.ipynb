{
 "cells": [
  {
   "cell_type": "markdown",
   "metadata": {},
   "source": [
    "# Identify the Apparels\n",
    "https://datahack.analyticsvidhya.com/contest/practice-problem-identify-the-apparels/  \n",
    "**Aleksey Shipitsyn**    \n",
    "**2019-08-12**"
   ]
  },
  {
   "cell_type": "markdown",
   "metadata": {},
   "source": [
    "## Data reading and exploration"
   ]
  },
  {
   "cell_type": "code",
   "execution_count": 1,
   "metadata": {},
   "outputs": [],
   "source": [
    "import numpy as np\n",
    "import pandas as pd\n",
    "import matplotlib.pyplot as plt\n",
    "import seaborn as sns; sns.set()\n"
   ]
  },
  {
   "cell_type": "code",
   "execution_count": 2,
   "metadata": {},
   "outputs": [],
   "source": [
    "# data files names\n",
    "main_folder = './Documents/Competitions/Identify the Apparels/'\n",
    "train_folder = 'train_LbELtWX/'\n",
    "test_folder = 'test_ScVgIM0/'\n",
    "\n",
    "train_img_folder = 'train/'\n",
    "test_img_folder = 'test/'\n",
    "\n",
    "train_file = 'train.csv'\n",
    "test_file = 'test.csv'\n",
    "submission_file = 'sample_submission_I5njJSF.csv'\n"
   ]
  },
  {
   "cell_type": "code",
   "execution_count": 3,
   "metadata": {
    "scrolled": true
   },
   "outputs": [
    {
     "name": "stdout",
     "output_type": "stream",
     "text": [
      "df_train SHAPE: (60000, 1)\n",
      "df_test SHAPE: (10000, 0)\n",
      "df_submission SHAPE: (10000, 1)\n",
      "\n",
      "df_train TYPES:\n",
      "label    int64\n",
      "dtype: object\n",
      "\n",
      "df_test TYPES:\n",
      "Series([], dtype: object)\n",
      "\n",
      "df_submission TYPES:\n",
      "label    int64\n",
      "dtype: object\n",
      "\n",
      "df_train MISSING VALUES:\n",
      "label    0\n",
      "dtype: int64\n",
      "\n",
      "df_test MISSING VALUES:\n",
      "Series([], dtype: float64)\n",
      "\n",
      "df_submission MiSSING VALUES:\n",
      "label    0\n",
      "dtype: int64\n"
     ]
    }
   ],
   "source": [
    "# read and check csv files\n",
    "df_train = pd.read_csv(main_folder + train_folder + train_file, index_col='id') \n",
    "df_test = pd.read_csv(main_folder + test_folder + test_file, index_col='id') \n",
    "df_submission = pd.read_csv(main_folder + submission_file, index_col='id') \n",
    "\n",
    "pass\n",
    "\n",
    "print('df_train SHAPE: {}'.format(df_train.shape))\n",
    "print('df_test SHAPE: {}'.format(df_test.shape))\n",
    "print('df_submission SHAPE: {}\\n'.format(df_submission.shape))\n",
    "\n",
    "print('df_train TYPES:\\n{}\\n'.format(df_train.dtypes))\n",
    "print('df_test TYPES:\\n{}\\n'.format(df_test.dtypes))\n",
    "print('df_submission TYPES:\\n{}\\n'.format(df_submission.dtypes))\n",
    "\n",
    "print('df_train MISSING VALUES:\\n{}\\n'.format(df_train.isnull().sum()));\n",
    "print('df_test MISSING VALUES:\\n{}\\n'.format(df_test.isnull().sum()));\n",
    "print('df_submission MiSSING VALUES:\\n{}'.format(df_submission.isnull().sum()))\n"
   ]
  },
  {
   "cell_type": "code",
   "execution_count": 4,
   "metadata": {},
   "outputs": [
    {
     "data": {
      "text/html": [
       "<div>\n",
       "<style scoped>\n",
       "    .dataframe tbody tr th:only-of-type {\n",
       "        vertical-align: middle;\n",
       "    }\n",
       "\n",
       "    .dataframe tbody tr th {\n",
       "        vertical-align: top;\n",
       "    }\n",
       "\n",
       "    .dataframe thead th {\n",
       "        text-align: right;\n",
       "    }\n",
       "</style>\n",
       "<table border=\"1\" class=\"dataframe\">\n",
       "  <thead>\n",
       "    <tr style=\"text-align: right;\">\n",
       "      <th></th>\n",
       "      <th>label</th>\n",
       "    </tr>\n",
       "    <tr>\n",
       "      <th>id</th>\n",
       "      <th></th>\n",
       "    </tr>\n",
       "  </thead>\n",
       "  <tbody>\n",
       "    <tr>\n",
       "      <th>1</th>\n",
       "      <td>9</td>\n",
       "    </tr>\n",
       "    <tr>\n",
       "      <th>2</th>\n",
       "      <td>0</td>\n",
       "    </tr>\n",
       "    <tr>\n",
       "      <th>3</th>\n",
       "      <td>0</td>\n",
       "    </tr>\n",
       "    <tr>\n",
       "      <th>4</th>\n",
       "      <td>3</td>\n",
       "    </tr>\n",
       "    <tr>\n",
       "      <th>5</th>\n",
       "      <td>0</td>\n",
       "    </tr>\n",
       "  </tbody>\n",
       "</table>\n",
       "</div>"
      ],
      "text/plain": [
       "    label\n",
       "id       \n",
       "1       9\n",
       "2       0\n",
       "3       0\n",
       "4       3\n",
       "5       0"
      ]
     },
     "execution_count": 4,
     "metadata": {},
     "output_type": "execute_result"
    }
   ],
   "source": [
    "df_train.head()"
   ]
  },
  {
   "cell_type": "code",
   "execution_count": 5,
   "metadata": {},
   "outputs": [
    {
     "data": {
      "text/html": [
       "<div>\n",
       "<style scoped>\n",
       "    .dataframe tbody tr th:only-of-type {\n",
       "        vertical-align: middle;\n",
       "    }\n",
       "\n",
       "    .dataframe tbody tr th {\n",
       "        vertical-align: top;\n",
       "    }\n",
       "\n",
       "    .dataframe thead th {\n",
       "        text-align: right;\n",
       "    }\n",
       "</style>\n",
       "<table border=\"1\" class=\"dataframe\">\n",
       "  <thead>\n",
       "    <tr style=\"text-align: right;\">\n",
       "      <th></th>\n",
       "    </tr>\n",
       "    <tr>\n",
       "      <th>id</th>\n",
       "    </tr>\n",
       "  </thead>\n",
       "  <tbody>\n",
       "    <tr>\n",
       "      <th>60001</th>\n",
       "    </tr>\n",
       "    <tr>\n",
       "      <th>60002</th>\n",
       "    </tr>\n",
       "    <tr>\n",
       "      <th>60003</th>\n",
       "    </tr>\n",
       "    <tr>\n",
       "      <th>60004</th>\n",
       "    </tr>\n",
       "    <tr>\n",
       "      <th>60005</th>\n",
       "    </tr>\n",
       "  </tbody>\n",
       "</table>\n",
       "</div>"
      ],
      "text/plain": [
       "Empty DataFrame\n",
       "Columns: []\n",
       "Index: [60001, 60002, 60003, 60004, 60005]"
      ]
     },
     "execution_count": 5,
     "metadata": {},
     "output_type": "execute_result"
    }
   ],
   "source": [
    "df_test.head()"
   ]
  },
  {
   "cell_type": "code",
   "execution_count": 6,
   "metadata": {},
   "outputs": [
    {
     "data": {
      "text/html": [
       "<div>\n",
       "<style scoped>\n",
       "    .dataframe tbody tr th:only-of-type {\n",
       "        vertical-align: middle;\n",
       "    }\n",
       "\n",
       "    .dataframe tbody tr th {\n",
       "        vertical-align: top;\n",
       "    }\n",
       "\n",
       "    .dataframe thead th {\n",
       "        text-align: right;\n",
       "    }\n",
       "</style>\n",
       "<table border=\"1\" class=\"dataframe\">\n",
       "  <thead>\n",
       "    <tr style=\"text-align: right;\">\n",
       "      <th></th>\n",
       "      <th>label</th>\n",
       "    </tr>\n",
       "    <tr>\n",
       "      <th>id</th>\n",
       "      <th></th>\n",
       "    </tr>\n",
       "  </thead>\n",
       "  <tbody>\n",
       "    <tr>\n",
       "      <th>60001</th>\n",
       "      <td>0</td>\n",
       "    </tr>\n",
       "    <tr>\n",
       "      <th>60002</th>\n",
       "      <td>0</td>\n",
       "    </tr>\n",
       "    <tr>\n",
       "      <th>60003</th>\n",
       "      <td>0</td>\n",
       "    </tr>\n",
       "    <tr>\n",
       "      <th>60004</th>\n",
       "      <td>0</td>\n",
       "    </tr>\n",
       "    <tr>\n",
       "      <th>60005</th>\n",
       "      <td>0</td>\n",
       "    </tr>\n",
       "  </tbody>\n",
       "</table>\n",
       "</div>"
      ],
      "text/plain": [
       "       label\n",
       "id          \n",
       "60001      0\n",
       "60002      0\n",
       "60003      0\n",
       "60004      0\n",
       "60005      0"
      ]
     },
     "execution_count": 6,
     "metadata": {},
     "output_type": "execute_result"
    }
   ],
   "source": [
    "df_submission.head()"
   ]
  },
  {
   "cell_type": "code",
   "execution_count": 7,
   "metadata": {
    "scrolled": true
   },
   "outputs": [
    {
     "name": "stdout",
     "output_type": "stream",
     "text": [
      "submission and test files match:  True\n",
      "\n",
      "df_train, all unique id:  True\n",
      "df_test, all unique id:  True\n",
      "df_submission, all unique id:  True\n"
     ]
    }
   ],
   "source": [
    "# check if submission hash corresponds to test set\n",
    "print('submission and test files match:  {}\\n'.format(all(np.array(df_test.index == df_submission.index))))\n",
    "\n",
    "# check id uniqueness\n",
    "print('df_train, all unique id:  {}'.format(len(df_train.index.unique()) == df_train.shape[0]))\n",
    "print('df_test, all unique id:  {}'.format(len(df_test.index.unique()) == df_test.shape[0]))\n",
    "print('df_submission, all unique id:  {}'.format(len(df_submission.index.unique()) == df_submission.shape[0]))"
   ]
  },
  {
   "cell_type": "markdown",
   "metadata": {},
   "source": [
    "## Data preprocessing  \n",
    "\n",
    "- Target balance\n",
    "- Image feature extraction, HOG and Sobel features\n",
    "- Split for training and validation subsets  \n"
   ]
  },
  {
   "cell_type": "code",
   "execution_count": 8,
   "metadata": {
    "scrolled": true
   },
   "outputs": [
    {
     "data": {
      "text/html": [
       "<div>\n",
       "<style scoped>\n",
       "    .dataframe tbody tr th:only-of-type {\n",
       "        vertical-align: middle;\n",
       "    }\n",
       "\n",
       "    .dataframe tbody tr th {\n",
       "        vertical-align: top;\n",
       "    }\n",
       "\n",
       "    .dataframe thead th {\n",
       "        text-align: right;\n",
       "    }\n",
       "</style>\n",
       "<table border=\"1\" class=\"dataframe\">\n",
       "  <thead>\n",
       "    <tr style=\"text-align: right;\">\n",
       "      <th>col_0</th>\n",
       "      <th>label</th>\n",
       "    </tr>\n",
       "    <tr>\n",
       "      <th>label</th>\n",
       "      <th></th>\n",
       "    </tr>\n",
       "  </thead>\n",
       "  <tbody>\n",
       "    <tr>\n",
       "      <th>0</th>\n",
       "      <td>6000</td>\n",
       "    </tr>\n",
       "    <tr>\n",
       "      <th>1</th>\n",
       "      <td>6000</td>\n",
       "    </tr>\n",
       "    <tr>\n",
       "      <th>2</th>\n",
       "      <td>6000</td>\n",
       "    </tr>\n",
       "    <tr>\n",
       "      <th>3</th>\n",
       "      <td>6000</td>\n",
       "    </tr>\n",
       "    <tr>\n",
       "      <th>4</th>\n",
       "      <td>6000</td>\n",
       "    </tr>\n",
       "    <tr>\n",
       "      <th>5</th>\n",
       "      <td>6000</td>\n",
       "    </tr>\n",
       "    <tr>\n",
       "      <th>6</th>\n",
       "      <td>6000</td>\n",
       "    </tr>\n",
       "    <tr>\n",
       "      <th>7</th>\n",
       "      <td>6000</td>\n",
       "    </tr>\n",
       "    <tr>\n",
       "      <th>8</th>\n",
       "      <td>6000</td>\n",
       "    </tr>\n",
       "    <tr>\n",
       "      <th>9</th>\n",
       "      <td>6000</td>\n",
       "    </tr>\n",
       "  </tbody>\n",
       "</table>\n",
       "</div>"
      ],
      "text/plain": [
       "col_0  label\n",
       "label       \n",
       "0       6000\n",
       "1       6000\n",
       "2       6000\n",
       "3       6000\n",
       "4       6000\n",
       "5       6000\n",
       "6       6000\n",
       "7       6000\n",
       "8       6000\n",
       "9       6000"
      ]
     },
     "execution_count": 8,
     "metadata": {},
     "output_type": "execute_result"
    }
   ],
   "source": [
    "# Target classes are balanced\n",
    "pd.crosstab(index=df_train.label, columns=['label'], normalize=False)"
   ]
  },
  {
   "cell_type": "code",
   "execution_count": 9,
   "metadata": {},
   "outputs": [],
   "source": [
    "import imageio\n",
    "import glob\n",
    "from skimage import io, color, feature, filters, data\n"
   ]
  },
  {
   "cell_type": "code",
   "execution_count": 10,
   "metadata": {
    "scrolled": true
   },
   "outputs": [
    {
     "name": "stdout",
     "output_type": "stream",
     "text": [
      "File location: ./Documents/Competitions/Identify the Apparels/train_LbELtWX/train/3975.png\n",
      "\n",
      "image shape: (28, 28)\n"
     ]
    },
    {
     "data": {
      "image/png": "[encoded data removed]",
      "text/plain": [
       "<Figure size 1296x432 with 3 Axes>"
      ]
     },
     "metadata": {},
     "output_type": "display_data"
    }
   ],
   "source": [
    "# One image features visualization\n",
    "path = main_folder + train_folder + train_img_folder + \"*.png\"\n",
    "images = glob.glob(path)\n",
    "print('File location:', images[1] + '\\n')\n",
    "\n",
    "image = color.rgb2gray(imageio.imread(images[1]))\n",
    "print('image shape:', image.shape)\n",
    "\n",
    "# Hog features\n",
    "hog_vec, hog_vis = feature.hog(image, visualize=True)\n",
    "\n",
    "# Sobel features\n",
    "edges = filters.sobel(image)\n",
    "\n",
    "# visualize one image and features\n",
    "fig, ax = plt.subplots(1, 3, figsize=(18, 6), subplot_kw=dict(xticks=[], yticks=[]))\n",
    "ax[0].imshow(image, cmap='gray')\n",
    "ax[0].set_title('Input image')\n",
    "\n",
    "ax[1].imshow(hog_vis)\n",
    "ax[1].set_title('HOG features');\n",
    "\n",
    "ax[2].imshow(edges)\n",
    "ax[2].set_title('Sobel features');\n",
    "\n"
   ]
  },
  {
   "cell_type": "code",
   "execution_count": 11,
   "metadata": {},
   "outputs": [
    {
     "data": {
      "text/plain": [
       "(60000, 81)"
      ]
     },
     "execution_count": 11,
     "metadata": {},
     "output_type": "execute_result"
    }
   ],
   "source": [
    "\"\"\"\n",
    "# Hog and Sobel features for all images\n",
    "hog_stack = np.vstack([ np.hstack( [feature.hog(color.rgb2gray(imageio.imread(im))), \n",
    "                                    filters.sobel(color.rgb2gray(imageio.imread(im))).ravel()] ) \n",
    "                       for im in images ])\n",
    "hog_stack.shape \n",
    "\n",
    "\n",
    "# pixels as features \n",
    "hog_stack = np.vstack([ color.rgb2gray(imageio.imread(im)).ravel() for im in images ])\n",
    "hog_stack.shape\n",
    "\"\"\"\n",
    "\n",
    "# Hog features for all images\n",
    "hog_stack = np.vstack([ feature.hog(color.rgb2gray(imageio.imread(im))) for im in images ])\n",
    "hog_stack.shape \n"
   ]
  },
  {
   "cell_type": "code",
   "execution_count": 12,
   "metadata": {
    "scrolled": true
   },
   "outputs": [
    {
     "data": {
      "text/html": [
       "<div>\n",
       "<style scoped>\n",
       "    .dataframe tbody tr th:only-of-type {\n",
       "        vertical-align: middle;\n",
       "    }\n",
       "\n",
       "    .dataframe tbody tr th {\n",
       "        vertical-align: top;\n",
       "    }\n",
       "\n",
       "    .dataframe thead th {\n",
       "        text-align: right;\n",
       "    }\n",
       "</style>\n",
       "<table border=\"1\" class=\"dataframe\">\n",
       "  <thead>\n",
       "    <tr style=\"text-align: right;\">\n",
       "      <th></th>\n",
       "      <th>0</th>\n",
       "      <th>1</th>\n",
       "      <th>2</th>\n",
       "      <th>3</th>\n",
       "      <th>4</th>\n",
       "      <th>5</th>\n",
       "      <th>6</th>\n",
       "      <th>7</th>\n",
       "      <th>8</th>\n",
       "      <th>9</th>\n",
       "      <th>...</th>\n",
       "      <th>71</th>\n",
       "      <th>72</th>\n",
       "      <th>73</th>\n",
       "      <th>74</th>\n",
       "      <th>75</th>\n",
       "      <th>76</th>\n",
       "      <th>77</th>\n",
       "      <th>78</th>\n",
       "      <th>79</th>\n",
       "      <th>80</th>\n",
       "    </tr>\n",
       "  </thead>\n",
       "  <tbody>\n",
       "    <tr>\n",
       "      <th>20037</th>\n",
       "      <td>0.171894</td>\n",
       "      <td>0.113754</td>\n",
       "      <td>0.106470</td>\n",
       "      <td>0.055849</td>\n",
       "      <td>0.033751</td>\n",
       "      <td>0.008893</td>\n",
       "      <td>0.007907</td>\n",
       "      <td>0.043832</td>\n",
       "      <td>0.013993</td>\n",
       "      <td>0.246132</td>\n",
       "      <td>...</td>\n",
       "      <td>0.129634</td>\n",
       "      <td>0.230236</td>\n",
       "      <td>0.062455</td>\n",
       "      <td>0.118795</td>\n",
       "      <td>0.013351</td>\n",
       "      <td>0.108264</td>\n",
       "      <td>0.059904</td>\n",
       "      <td>0.157017</td>\n",
       "      <td>0.132649</td>\n",
       "      <td>0.087331</td>\n",
       "    </tr>\n",
       "    <tr>\n",
       "      <th>3975</th>\n",
       "      <td>0.018304</td>\n",
       "      <td>0.001662</td>\n",
       "      <td>0.055951</td>\n",
       "      <td>0.000000</td>\n",
       "      <td>0.000000</td>\n",
       "      <td>0.005992</td>\n",
       "      <td>0.003039</td>\n",
       "      <td>0.014840</td>\n",
       "      <td>0.015344</td>\n",
       "      <td>0.256041</td>\n",
       "      <td>...</td>\n",
       "      <td>0.017798</td>\n",
       "      <td>0.256041</td>\n",
       "      <td>0.000000</td>\n",
       "      <td>0.012497</td>\n",
       "      <td>0.012323</td>\n",
       "      <td>0.038772</td>\n",
       "      <td>0.025361</td>\n",
       "      <td>0.111154</td>\n",
       "      <td>0.225365</td>\n",
       "      <td>0.256041</td>\n",
       "    </tr>\n",
       "    <tr>\n",
       "      <th>49081</th>\n",
       "      <td>0.000000</td>\n",
       "      <td>0.000000</td>\n",
       "      <td>0.000000</td>\n",
       "      <td>0.000000</td>\n",
       "      <td>0.000000</td>\n",
       "      <td>0.000000</td>\n",
       "      <td>0.000000</td>\n",
       "      <td>0.000000</td>\n",
       "      <td>0.000000</td>\n",
       "      <td>0.035115</td>\n",
       "      <td>...</td>\n",
       "      <td>0.015858</td>\n",
       "      <td>0.029273</td>\n",
       "      <td>0.015255</td>\n",
       "      <td>0.022857</td>\n",
       "      <td>0.242051</td>\n",
       "      <td>0.308852</td>\n",
       "      <td>0.024468</td>\n",
       "      <td>0.033491</td>\n",
       "      <td>0.015753</td>\n",
       "      <td>0.025746</td>\n",
       "    </tr>\n",
       "    <tr>\n",
       "      <th>38678</th>\n",
       "      <td>0.288360</td>\n",
       "      <td>0.182486</td>\n",
       "      <td>0.084654</td>\n",
       "      <td>0.000000</td>\n",
       "      <td>0.004967</td>\n",
       "      <td>0.006576</td>\n",
       "      <td>0.000000</td>\n",
       "      <td>0.043320</td>\n",
       "      <td>0.074238</td>\n",
       "      <td>0.149354</td>\n",
       "      <td>...</td>\n",
       "      <td>0.021601</td>\n",
       "      <td>0.110600</td>\n",
       "      <td>0.033353</td>\n",
       "      <td>0.014592</td>\n",
       "      <td>0.012281</td>\n",
       "      <td>0.069396</td>\n",
       "      <td>0.026836</td>\n",
       "      <td>0.028677</td>\n",
       "      <td>0.020220</td>\n",
       "      <td>0.044719</td>\n",
       "    </tr>\n",
       "    <tr>\n",
       "      <th>59292</th>\n",
       "      <td>0.000402</td>\n",
       "      <td>0.000000</td>\n",
       "      <td>0.000000</td>\n",
       "      <td>0.000000</td>\n",
       "      <td>0.000000</td>\n",
       "      <td>0.000000</td>\n",
       "      <td>0.000000</td>\n",
       "      <td>0.000000</td>\n",
       "      <td>0.000000</td>\n",
       "      <td>0.098840</td>\n",
       "      <td>...</td>\n",
       "      <td>0.042821</td>\n",
       "      <td>0.165604</td>\n",
       "      <td>0.135110</td>\n",
       "      <td>0.244460</td>\n",
       "      <td>0.035046</td>\n",
       "      <td>0.001205</td>\n",
       "      <td>0.000000</td>\n",
       "      <td>0.000000</td>\n",
       "      <td>0.000000</td>\n",
       "      <td>0.022503</td>\n",
       "    </tr>\n",
       "  </tbody>\n",
       "</table>\n",
       "<p>5 rows × 81 columns</p>\n",
       "</div>"
      ],
      "text/plain": [
       "             0         1         2         3         4         5         6   \\\n",
       "20037  0.171894  0.113754  0.106470  0.055849  0.033751  0.008893  0.007907   \n",
       "3975   0.018304  0.001662  0.055951  0.000000  0.000000  0.005992  0.003039   \n",
       "49081  0.000000  0.000000  0.000000  0.000000  0.000000  0.000000  0.000000   \n",
       "38678  0.288360  0.182486  0.084654  0.000000  0.004967  0.006576  0.000000   \n",
       "59292  0.000402  0.000000  0.000000  0.000000  0.000000  0.000000  0.000000   \n",
       "\n",
       "             7         8         9   ...        71        72        73  \\\n",
       "20037  0.043832  0.013993  0.246132  ...  0.129634  0.230236  0.062455   \n",
       "3975   0.014840  0.015344  0.256041  ...  0.017798  0.256041  0.000000   \n",
       "49081  0.000000  0.000000  0.035115  ...  0.015858  0.029273  0.015255   \n",
       "38678  0.043320  0.074238  0.149354  ...  0.021601  0.110600  0.033353   \n",
       "59292  0.000000  0.000000  0.098840  ...  0.042821  0.165604  0.135110   \n",
       "\n",
       "             74        75        76        77        78        79        80  \n",
       "20037  0.118795  0.013351  0.108264  0.059904  0.157017  0.132649  0.087331  \n",
       "3975   0.012497  0.012323  0.038772  0.025361  0.111154  0.225365  0.256041  \n",
       "49081  0.022857  0.242051  0.308852  0.024468  0.033491  0.015753  0.025746  \n",
       "38678  0.014592  0.012281  0.069396  0.026836  0.028677  0.020220  0.044719  \n",
       "59292  0.244460  0.035046  0.001205  0.000000  0.000000  0.000000  0.022503  \n",
       "\n",
       "[5 rows x 81 columns]"
      ]
     },
     "execution_count": 12,
     "metadata": {},
     "output_type": "execute_result"
    }
   ],
   "source": [
    "# matching sorted targets \n",
    "import re\n",
    "pattern = re.compile('[0-9]+')\n",
    "labels = np.array([re.findall(pattern, f) for f in images]).ravel().astype(int)\n",
    "\n",
    "X = pd.DataFrame(hog_stack, index=labels)\n",
    "X.head()"
   ]
  },
  {
   "cell_type": "code",
   "execution_count": 13,
   "metadata": {},
   "outputs": [
    {
     "data": {
      "text/html": [
       "<div>\n",
       "<style scoped>\n",
       "    .dataframe tbody tr th:only-of-type {\n",
       "        vertical-align: middle;\n",
       "    }\n",
       "\n",
       "    .dataframe tbody tr th {\n",
       "        vertical-align: top;\n",
       "    }\n",
       "\n",
       "    .dataframe thead th {\n",
       "        text-align: right;\n",
       "    }\n",
       "</style>\n",
       "<table border=\"1\" class=\"dataframe\">\n",
       "  <thead>\n",
       "    <tr style=\"text-align: right;\">\n",
       "      <th></th>\n",
       "      <th>0</th>\n",
       "      <th>1</th>\n",
       "      <th>2</th>\n",
       "      <th>3</th>\n",
       "      <th>4</th>\n",
       "      <th>5</th>\n",
       "      <th>6</th>\n",
       "      <th>7</th>\n",
       "      <th>8</th>\n",
       "      <th>9</th>\n",
       "      <th>...</th>\n",
       "      <th>71</th>\n",
       "      <th>72</th>\n",
       "      <th>73</th>\n",
       "      <th>74</th>\n",
       "      <th>75</th>\n",
       "      <th>76</th>\n",
       "      <th>77</th>\n",
       "      <th>78</th>\n",
       "      <th>79</th>\n",
       "      <th>80</th>\n",
       "    </tr>\n",
       "  </thead>\n",
       "  <tbody>\n",
       "    <tr>\n",
       "      <th>1</th>\n",
       "      <td>0.000000</td>\n",
       "      <td>0.000000</td>\n",
       "      <td>0.000000</td>\n",
       "      <td>0.000000</td>\n",
       "      <td>0.000000</td>\n",
       "      <td>0.0</td>\n",
       "      <td>0.000000</td>\n",
       "      <td>0.000000</td>\n",
       "      <td>0.000000</td>\n",
       "      <td>0.057982</td>\n",
       "      <td>...</td>\n",
       "      <td>0.042429</td>\n",
       "      <td>0.070918</td>\n",
       "      <td>0.100365</td>\n",
       "      <td>0.072547</td>\n",
       "      <td>0.225248</td>\n",
       "      <td>0.111404</td>\n",
       "      <td>0.036474</td>\n",
       "      <td>0.033692</td>\n",
       "      <td>0.031818</td>\n",
       "      <td>0.047422</td>\n",
       "    </tr>\n",
       "    <tr>\n",
       "      <th>2</th>\n",
       "      <td>0.230470</td>\n",
       "      <td>0.137994</td>\n",
       "      <td>0.201274</td>\n",
       "      <td>0.065874</td>\n",
       "      <td>0.002424</td>\n",
       "      <td>0.0</td>\n",
       "      <td>0.002085</td>\n",
       "      <td>0.005818</td>\n",
       "      <td>0.003402</td>\n",
       "      <td>0.123226</td>\n",
       "      <td>...</td>\n",
       "      <td>0.144753</td>\n",
       "      <td>0.236857</td>\n",
       "      <td>0.000387</td>\n",
       "      <td>0.000490</td>\n",
       "      <td>0.000000</td>\n",
       "      <td>0.001558</td>\n",
       "      <td>0.001322</td>\n",
       "      <td>0.004171</td>\n",
       "      <td>0.007915</td>\n",
       "      <td>0.236857</td>\n",
       "    </tr>\n",
       "    <tr>\n",
       "      <th>3</th>\n",
       "      <td>0.004871</td>\n",
       "      <td>0.000000</td>\n",
       "      <td>0.000000</td>\n",
       "      <td>0.000000</td>\n",
       "      <td>0.000000</td>\n",
       "      <td>0.0</td>\n",
       "      <td>0.000000</td>\n",
       "      <td>0.000000</td>\n",
       "      <td>0.000000</td>\n",
       "      <td>0.284097</td>\n",
       "      <td>...</td>\n",
       "      <td>0.098995</td>\n",
       "      <td>0.229994</td>\n",
       "      <td>0.036109</td>\n",
       "      <td>0.000574</td>\n",
       "      <td>0.001815</td>\n",
       "      <td>0.006495</td>\n",
       "      <td>0.001674</td>\n",
       "      <td>0.001722</td>\n",
       "      <td>0.050493</td>\n",
       "      <td>0.284097</td>\n",
       "    </tr>\n",
       "    <tr>\n",
       "      <th>4</th>\n",
       "      <td>0.128630</td>\n",
       "      <td>0.063913</td>\n",
       "      <td>0.188358</td>\n",
       "      <td>0.036969</td>\n",
       "      <td>0.001171</td>\n",
       "      <td>0.0</td>\n",
       "      <td>0.236493</td>\n",
       "      <td>0.111326</td>\n",
       "      <td>0.028523</td>\n",
       "      <td>0.236493</td>\n",
       "      <td>...</td>\n",
       "      <td>0.163996</td>\n",
       "      <td>0.104492</td>\n",
       "      <td>0.056769</td>\n",
       "      <td>0.016894</td>\n",
       "      <td>0.022240</td>\n",
       "      <td>0.081124</td>\n",
       "      <td>0.002619</td>\n",
       "      <td>0.163209</td>\n",
       "      <td>0.227034</td>\n",
       "      <td>0.236493</td>\n",
       "    </tr>\n",
       "    <tr>\n",
       "      <th>5</th>\n",
       "      <td>0.177803</td>\n",
       "      <td>0.000000</td>\n",
       "      <td>0.000000</td>\n",
       "      <td>0.000000</td>\n",
       "      <td>0.000000</td>\n",
       "      <td>0.0</td>\n",
       "      <td>0.000000</td>\n",
       "      <td>0.000000</td>\n",
       "      <td>0.000000</td>\n",
       "      <td>0.148722</td>\n",
       "      <td>...</td>\n",
       "      <td>0.112022</td>\n",
       "      <td>0.262540</td>\n",
       "      <td>0.005904</td>\n",
       "      <td>0.020940</td>\n",
       "      <td>0.016783</td>\n",
       "      <td>0.000000</td>\n",
       "      <td>0.022229</td>\n",
       "      <td>0.018221</td>\n",
       "      <td>0.261925</td>\n",
       "      <td>0.230183</td>\n",
       "    </tr>\n",
       "  </tbody>\n",
       "</table>\n",
       "<p>5 rows × 81 columns</p>\n",
       "</div>"
      ],
      "text/plain": [
       "         0         1         2         3         4    5         6         7   \\\n",
       "1  0.000000  0.000000  0.000000  0.000000  0.000000  0.0  0.000000  0.000000   \n",
       "2  0.230470  0.137994  0.201274  0.065874  0.002424  0.0  0.002085  0.005818   \n",
       "3  0.004871  0.000000  0.000000  0.000000  0.000000  0.0  0.000000  0.000000   \n",
       "4  0.128630  0.063913  0.188358  0.036969  0.001171  0.0  0.236493  0.111326   \n",
       "5  0.177803  0.000000  0.000000  0.000000  0.000000  0.0  0.000000  0.000000   \n",
       "\n",
       "         8         9   ...        71        72        73        74        75  \\\n",
       "1  0.000000  0.057982  ...  0.042429  0.070918  0.100365  0.072547  0.225248   \n",
       "2  0.003402  0.123226  ...  0.144753  0.236857  0.000387  0.000490  0.000000   \n",
       "3  0.000000  0.284097  ...  0.098995  0.229994  0.036109  0.000574  0.001815   \n",
       "4  0.028523  0.236493  ...  0.163996  0.104492  0.056769  0.016894  0.022240   \n",
       "5  0.000000  0.148722  ...  0.112022  0.262540  0.005904  0.020940  0.016783   \n",
       "\n",
       "         76        77        78        79        80  \n",
       "1  0.111404  0.036474  0.033692  0.031818  0.047422  \n",
       "2  0.001558  0.001322  0.004171  0.007915  0.236857  \n",
       "3  0.006495  0.001674  0.001722  0.050493  0.284097  \n",
       "4  0.081124  0.002619  0.163209  0.227034  0.236493  \n",
       "5  0.000000  0.022229  0.018221  0.261925  0.230183  \n",
       "\n",
       "[5 rows x 81 columns]"
      ]
     },
     "execution_count": 13,
     "metadata": {},
     "output_type": "execute_result"
    }
   ],
   "source": [
    "X.sort_index(inplace=True)\n",
    "X.head()\n"
   ]
  },
  {
   "cell_type": "code",
   "execution_count": 14,
   "metadata": {},
   "outputs": [
    {
     "data": {
      "text/html": [
       "<div>\n",
       "<style scoped>\n",
       "    .dataframe tbody tr th:only-of-type {\n",
       "        vertical-align: middle;\n",
       "    }\n",
       "\n",
       "    .dataframe tbody tr th {\n",
       "        vertical-align: top;\n",
       "    }\n",
       "\n",
       "    .dataframe thead th {\n",
       "        text-align: right;\n",
       "    }\n",
       "</style>\n",
       "<table border=\"1\" class=\"dataframe\">\n",
       "  <thead>\n",
       "    <tr style=\"text-align: right;\">\n",
       "      <th></th>\n",
       "      <th>label</th>\n",
       "    </tr>\n",
       "    <tr>\n",
       "      <th>id</th>\n",
       "      <th></th>\n",
       "    </tr>\n",
       "  </thead>\n",
       "  <tbody>\n",
       "    <tr>\n",
       "      <th>1</th>\n",
       "      <td>9</td>\n",
       "    </tr>\n",
       "    <tr>\n",
       "      <th>2</th>\n",
       "      <td>0</td>\n",
       "    </tr>\n",
       "    <tr>\n",
       "      <th>3</th>\n",
       "      <td>0</td>\n",
       "    </tr>\n",
       "    <tr>\n",
       "      <th>4</th>\n",
       "      <td>3</td>\n",
       "    </tr>\n",
       "    <tr>\n",
       "      <th>5</th>\n",
       "      <td>0</td>\n",
       "    </tr>\n",
       "  </tbody>\n",
       "</table>\n",
       "</div>"
      ],
      "text/plain": [
       "    label\n",
       "id       \n",
       "1       9\n",
       "2       0\n",
       "3       0\n",
       "4       3\n",
       "5       0"
      ]
     },
     "execution_count": 14,
     "metadata": {},
     "output_type": "execute_result"
    }
   ],
   "source": [
    "df_train.sort_index(inplace=True)\n",
    "df_train.head()"
   ]
  },
  {
   "cell_type": "code",
   "execution_count": 15,
   "metadata": {},
   "outputs": [],
   "source": [
    "# target\n",
    "y = df_train.label"
   ]
  },
  {
   "cell_type": "markdown",
   "metadata": {},
   "source": [
    "### Train data split for training and validation subsets"
   ]
  },
  {
   "cell_type": "code",
   "execution_count": 16,
   "metadata": {},
   "outputs": [
    {
     "data": {
      "text/plain": [
       "((40000, 81), (40000,), (20000, 81), (20000,))"
      ]
     },
     "execution_count": 16,
     "metadata": {},
     "output_type": "execute_result"
    }
   ],
   "source": [
    "from sklearn.model_selection import train_test_split\n",
    "\n",
    "X_train, X_valid, y_train, y_valid = train_test_split(X, y, test_size=20000, random_state=42)\n",
    "X_train.shape, y_train.shape, X_valid.shape, y_valid.shape\n"
   ]
  },
  {
   "cell_type": "markdown",
   "metadata": {},
   "source": [
    "## Modeling"
   ]
  },
  {
   "cell_type": "code",
   "execution_count": 17,
   "metadata": {},
   "outputs": [],
   "source": [
    "from sklearn.naive_bayes import GaussianNB\n",
    "from sklearn.ensemble import RandomForestClassifier\n",
    "from xgboost import XGBRFClassifier\n",
    "from sklearn.model_selection import GridSearchCV\n"
   ]
  },
  {
   "cell_type": "code",
   "execution_count": 18,
   "metadata": {},
   "outputs": [
    {
     "data": {
      "text/plain": [
       "GaussianNB(priors=None, var_smoothing=1e-09)"
      ]
     },
     "execution_count": 18,
     "metadata": {},
     "output_type": "execute_result"
    }
   ],
   "source": [
    "nb_model = GaussianNB()\n",
    "nb_model.fit(X_train, y_train)\n"
   ]
  },
  {
   "cell_type": "code",
   "execution_count": 20,
   "metadata": {},
   "outputs": [
    {
     "data": {
      "text/plain": [
       "RandomForestClassifier(bootstrap=True, class_weight=None, criterion='gini',\n",
       "                       max_depth=4, max_features='auto', max_leaf_nodes=None,\n",
       "                       min_impurity_decrease=0.0, min_impurity_split=None,\n",
       "                       min_samples_leaf=1, min_samples_split=2,\n",
       "                       min_weight_fraction_leaf=0.0, n_estimators=400, n_jobs=8,\n",
       "                       oob_score=False, random_state=None, verbose=0,\n",
       "                       warm_start=False)"
      ]
     },
     "execution_count": 20,
     "metadata": {},
     "output_type": "execute_result"
    }
   ],
   "source": [
    "rf_model = RandomForestClassifier(n_estimators=400, max_depth=4, n_jobs=8)\n",
    "rf_model.fit(X_train, y_train)\n"
   ]
  },
  {
   "cell_type": "code",
   "execution_count": null,
   "metadata": {},
   "outputs": [],
   "source": [
    "# grid search for RF\n",
    "params = {'n_estimators': [200, 300, 400], 'max_depth': [3, 4]}\n",
    "rf = RandomForestClassifier()\n",
    "grid = GridSearchCV(rf, param_grid=params, cv=3, n_jobs=8)\n",
    "grid.fit(X_train, y_train)\n",
    "print(grid.best_params_)\n",
    "\n",
    "rf_model = grid.best_estimator_\n"
   ]
  },
  {
   "cell_type": "code",
   "execution_count": 19,
   "metadata": {},
   "outputs": [
    {
     "data": {
      "text/plain": [
       "XGBRFClassifier(base_score=0.5, colsample_bylevel=1, colsample_bynode=0.8,\n",
       "                colsample_bytree=1, gamma=0, learning_rate=0.1,\n",
       "                max_delta_step=0, max_depth=4, min_child_weight=1, missing=None,\n",
       "                n_estimators=100, n_jobs=8, nthread=None,\n",
       "                objective='multi:softprob', random_state=0, reg_alpha=0,\n",
       "                reg_lambda=1, scale_pos_weight=1, seed=None, silent=None,\n",
       "                subsample=0.8, verbosity=1)"
      ]
     },
     "execution_count": 19,
     "metadata": {},
     "output_type": "execute_result"
    }
   ],
   "source": [
    "xgb_model = XGBRFClassifier(n_estimators=100, max_depth=4, learning_rate=0.1, n_jobs=8)\n",
    "xgb_model.fit(X_train, y_train)\n"
   ]
  },
  {
   "cell_type": "code",
   "execution_count": 26,
   "metadata": {},
   "outputs": [
    {
     "data": {
      "text/plain": [
       "{'learning_rate': 0.01, 'max_depth': 4, 'n_estimators': 200}"
      ]
     },
     "execution_count": 26,
     "metadata": {},
     "output_type": "execute_result"
    }
   ],
   "source": [
    "# grid searcgh for XGB\n",
    "params = {'learning_rate': [0.01, 0.1, 0.5], 'n_estimators': [200, 300, 400], 'max_depth': [3, 4]}\n",
    "xgb = XGBRFClassifier()\n",
    "grid = GridSearchCV(xgb, param_grid=params, cv=3, n_jobs=8)\n",
    "grid.fit(X_train, y_train)\n",
    "print(grid.best_params_)\n",
    "\n",
    "xgb_model = grid.best_estimator_\n"
   ]
  },
  {
   "cell_type": "markdown",
   "metadata": {},
   "source": [
    "### Evaluation"
   ]
  },
  {
   "cell_type": "code",
   "execution_count": 21,
   "metadata": {},
   "outputs": [],
   "source": [
    "# Multi-class accuracy\n",
    "from sklearn.metrics import accuracy_score\n"
   ]
  },
  {
   "cell_type": "code",
   "execution_count": 22,
   "metadata": {},
   "outputs": [
    {
     "name": "stdout",
     "output_type": "stream",
     "text": [
      "GaussianNB:\n",
      "Score for training set: 0.683775\n",
      "Score for validation set: 0.68375\n"
     ]
    }
   ],
   "source": [
    "print('GaussianNB:')\n",
    "print('Score for training set:', accuracy_score(y_train, nb_model.predict(X_train)))\n",
    "print('Score for validation set:', accuracy_score(y_valid, nb_model.predict(X_valid))) \n"
   ]
  },
  {
   "cell_type": "code",
   "execution_count": 23,
   "metadata": {},
   "outputs": [
    {
     "name": "stdout",
     "output_type": "stream",
     "text": [
      "RandomForestClassifier:\n",
      "Score for training set: 0.71815\n",
      "Score for validation set: 0.7211\n"
     ]
    }
   ],
   "source": [
    "print('RandomForestClassifier:')\n",
    "print('Score for training set:', accuracy_score(y_train, rf_model.predict(X_train)))\n",
    "print('Score for validation set:', accuracy_score(y_valid, rf_model.predict(X_valid))) \n"
   ]
  },
  {
   "cell_type": "code",
   "execution_count": 24,
   "metadata": {},
   "outputs": [
    {
     "name": "stdout",
     "output_type": "stream",
     "text": [
      "XGBRFClassifier:\n",
      "Score for training set: 0.7495\n",
      "Score for validation set: 0.7468\n"
     ]
    }
   ],
   "source": [
    "print('XGBRFClassifier:')\n",
    "print('Score for training set:', accuracy_score(y_train, xgb_model.predict(X_train)))\n",
    "print('Score for validation set:', accuracy_score(y_valid, xgb_model.predict(X_valid))) \n"
   ]
  },
  {
   "cell_type": "code",
   "execution_count": 27,
   "metadata": {},
   "outputs": [
    {
     "name": "stdout",
     "output_type": "stream",
     "text": [
      "Score for training set: 0.7454833333333334\n"
     ]
    }
   ],
   "source": [
    "# retrain the model on all training data\n",
    "model = xgb_model\n",
    "model.fit(X, y)\n",
    "print('Score for training set:', accuracy_score(y, model.predict(X)))\n"
   ]
  },
  {
   "cell_type": "markdown",
   "metadata": {},
   "source": [
    "## Submission"
   ]
  },
  {
   "cell_type": "code",
   "execution_count": 28,
   "metadata": {},
   "outputs": [],
   "source": [
    "# read and transform test images\n",
    "path_test = main_folder + test_folder + test_img_folder + \"*.png\"\n",
    "test_images = glob.glob(path_test)\n"
   ]
  },
  {
   "cell_type": "code",
   "execution_count": 29,
   "metadata": {},
   "outputs": [],
   "source": [
    "\"\"\"\n",
    "# Hog and Sobel features for all images\n",
    "hog_stack_test = np.vstack([ np.hstack( [feature.hog(color.rgb2gray(imageio.imread(im))), \n",
    "                                         filters.sobel(color.rgb2gray(imageio.imread(im))).ravel()] ) \n",
    "                            for im in test_images ])\n",
    "\n",
    "print('hog_stack_test SHAPE:', hog_stack_test.shape)\n",
    "\n",
    "# pixels as features \n",
    "hog_stack_test = np.vstack([ color.rgb2gray(imageio.imread(im)).ravel() for im in test_images ])\n",
    "hog_stack_test.shape\n",
    "\"\"\"\n",
    "\n",
    "hog_stack_test = np.vstack([ feature.hog(color.rgb2gray(imageio.imread(im))) for im in test_images ])\n"
   ]
  },
  {
   "cell_type": "code",
   "execution_count": 30,
   "metadata": {},
   "outputs": [
    {
     "data": {
      "text/html": [
       "<div>\n",
       "<style scoped>\n",
       "    .dataframe tbody tr th:only-of-type {\n",
       "        vertical-align: middle;\n",
       "    }\n",
       "\n",
       "    .dataframe tbody tr th {\n",
       "        vertical-align: top;\n",
       "    }\n",
       "\n",
       "    .dataframe thead th {\n",
       "        text-align: right;\n",
       "    }\n",
       "</style>\n",
       "<table border=\"1\" class=\"dataframe\">\n",
       "  <thead>\n",
       "    <tr style=\"text-align: right;\">\n",
       "      <th></th>\n",
       "      <th>0</th>\n",
       "      <th>1</th>\n",
       "      <th>2</th>\n",
       "      <th>3</th>\n",
       "      <th>4</th>\n",
       "      <th>5</th>\n",
       "      <th>6</th>\n",
       "      <th>7</th>\n",
       "      <th>8</th>\n",
       "      <th>9</th>\n",
       "      <th>...</th>\n",
       "      <th>71</th>\n",
       "      <th>72</th>\n",
       "      <th>73</th>\n",
       "      <th>74</th>\n",
       "      <th>75</th>\n",
       "      <th>76</th>\n",
       "      <th>77</th>\n",
       "      <th>78</th>\n",
       "      <th>79</th>\n",
       "      <th>80</th>\n",
       "    </tr>\n",
       "  </thead>\n",
       "  <tbody>\n",
       "    <tr>\n",
       "      <th>66062</th>\n",
       "      <td>0.000233</td>\n",
       "      <td>0.000000</td>\n",
       "      <td>0.000000</td>\n",
       "      <td>0.000000</td>\n",
       "      <td>0.000000</td>\n",
       "      <td>0.0</td>\n",
       "      <td>0.000000</td>\n",
       "      <td>0.00000</td>\n",
       "      <td>0.000000</td>\n",
       "      <td>0.034412</td>\n",
       "      <td>...</td>\n",
       "      <td>0.009540</td>\n",
       "      <td>0.032183</td>\n",
       "      <td>0.028841</td>\n",
       "      <td>0.190466</td>\n",
       "      <td>0.052055</td>\n",
       "      <td>0.113322</td>\n",
       "      <td>0.024270</td>\n",
       "      <td>0.213405</td>\n",
       "      <td>0.001253</td>\n",
       "      <td>0.023856</td>\n",
       "    </tr>\n",
       "    <tr>\n",
       "      <th>69351</th>\n",
       "      <td>0.026213</td>\n",
       "      <td>0.031262</td>\n",
       "      <td>0.105770</td>\n",
       "      <td>0.031861</td>\n",
       "      <td>0.046066</td>\n",
       "      <td>0.0</td>\n",
       "      <td>0.152728</td>\n",
       "      <td>0.10458</td>\n",
       "      <td>0.039988</td>\n",
       "      <td>0.049957</td>\n",
       "      <td>...</td>\n",
       "      <td>0.211161</td>\n",
       "      <td>0.234359</td>\n",
       "      <td>0.055331</td>\n",
       "      <td>0.033817</td>\n",
       "      <td>0.038149</td>\n",
       "      <td>0.040556</td>\n",
       "      <td>0.033606</td>\n",
       "      <td>0.015296</td>\n",
       "      <td>0.014285</td>\n",
       "      <td>0.234359</td>\n",
       "    </tr>\n",
       "    <tr>\n",
       "      <th>60413</th>\n",
       "      <td>0.000000</td>\n",
       "      <td>0.000000</td>\n",
       "      <td>0.000000</td>\n",
       "      <td>0.000000</td>\n",
       "      <td>0.000000</td>\n",
       "      <td>0.0</td>\n",
       "      <td>0.000000</td>\n",
       "      <td>0.00000</td>\n",
       "      <td>0.000000</td>\n",
       "      <td>0.000000</td>\n",
       "      <td>...</td>\n",
       "      <td>0.037327</td>\n",
       "      <td>0.000000</td>\n",
       "      <td>0.045444</td>\n",
       "      <td>0.102843</td>\n",
       "      <td>0.240415</td>\n",
       "      <td>0.280679</td>\n",
       "      <td>0.032334</td>\n",
       "      <td>0.020990</td>\n",
       "      <td>0.000000</td>\n",
       "      <td>0.000000</td>\n",
       "    </tr>\n",
       "    <tr>\n",
       "      <th>64675</th>\n",
       "      <td>0.298097</td>\n",
       "      <td>0.059819</td>\n",
       "      <td>0.060171</td>\n",
       "      <td>0.000000</td>\n",
       "      <td>0.000208</td>\n",
       "      <td>0.0</td>\n",
       "      <td>0.000000</td>\n",
       "      <td>0.00000</td>\n",
       "      <td>0.044511</td>\n",
       "      <td>0.147586</td>\n",
       "      <td>...</td>\n",
       "      <td>0.060929</td>\n",
       "      <td>0.158268</td>\n",
       "      <td>0.035693</td>\n",
       "      <td>0.055481</td>\n",
       "      <td>0.000659</td>\n",
       "      <td>0.071221</td>\n",
       "      <td>0.059785</td>\n",
       "      <td>0.056418</td>\n",
       "      <td>0.103342</td>\n",
       "      <td>0.298097</td>\n",
       "    </tr>\n",
       "    <tr>\n",
       "      <th>62204</th>\n",
       "      <td>0.000000</td>\n",
       "      <td>0.000000</td>\n",
       "      <td>0.000000</td>\n",
       "      <td>0.000000</td>\n",
       "      <td>0.000000</td>\n",
       "      <td>0.0</td>\n",
       "      <td>0.000000</td>\n",
       "      <td>0.00000</td>\n",
       "      <td>0.000000</td>\n",
       "      <td>0.328967</td>\n",
       "      <td>...</td>\n",
       "      <td>0.328967</td>\n",
       "      <td>0.082471</td>\n",
       "      <td>0.015483</td>\n",
       "      <td>0.007422</td>\n",
       "      <td>0.014613</td>\n",
       "      <td>0.000000</td>\n",
       "      <td>0.000000</td>\n",
       "      <td>0.000000</td>\n",
       "      <td>0.000000</td>\n",
       "      <td>0.328967</td>\n",
       "    </tr>\n",
       "  </tbody>\n",
       "</table>\n",
       "<p>5 rows × 81 columns</p>\n",
       "</div>"
      ],
      "text/plain": [
       "             0         1         2         3         4    5         6   \\\n",
       "66062  0.000233  0.000000  0.000000  0.000000  0.000000  0.0  0.000000   \n",
       "69351  0.026213  0.031262  0.105770  0.031861  0.046066  0.0  0.152728   \n",
       "60413  0.000000  0.000000  0.000000  0.000000  0.000000  0.0  0.000000   \n",
       "64675  0.298097  0.059819  0.060171  0.000000  0.000208  0.0  0.000000   \n",
       "62204  0.000000  0.000000  0.000000  0.000000  0.000000  0.0  0.000000   \n",
       "\n",
       "            7         8         9   ...        71        72        73  \\\n",
       "66062  0.00000  0.000000  0.034412  ...  0.009540  0.032183  0.028841   \n",
       "69351  0.10458  0.039988  0.049957  ...  0.211161  0.234359  0.055331   \n",
       "60413  0.00000  0.000000  0.000000  ...  0.037327  0.000000  0.045444   \n",
       "64675  0.00000  0.044511  0.147586  ...  0.060929  0.158268  0.035693   \n",
       "62204  0.00000  0.000000  0.328967  ...  0.328967  0.082471  0.015483   \n",
       "\n",
       "             74        75        76        77        78        79        80  \n",
       "66062  0.190466  0.052055  0.113322  0.024270  0.213405  0.001253  0.023856  \n",
       "69351  0.033817  0.038149  0.040556  0.033606  0.015296  0.014285  0.234359  \n",
       "60413  0.102843  0.240415  0.280679  0.032334  0.020990  0.000000  0.000000  \n",
       "64675  0.055481  0.000659  0.071221  0.059785  0.056418  0.103342  0.298097  \n",
       "62204  0.007422  0.014613  0.000000  0.000000  0.000000  0.000000  0.328967  \n",
       "\n",
       "[5 rows x 81 columns]"
      ]
     },
     "execution_count": 30,
     "metadata": {},
     "output_type": "execute_result"
    }
   ],
   "source": [
    "# matching sorted targets \n",
    "pattern = re.compile('[0-9]+')\n",
    "test_labels = np.array([re.findall(pattern, f)[1] for f in test_images]).ravel().astype(int)\n",
    "\n",
    "X_test = pd.DataFrame(hog_stack_test, index=test_labels)\n",
    "X_test.head()"
   ]
  },
  {
   "cell_type": "code",
   "execution_count": 31,
   "metadata": {},
   "outputs": [
    {
     "data": {
      "text/html": [
       "<div>\n",
       "<style scoped>\n",
       "    .dataframe tbody tr th:only-of-type {\n",
       "        vertical-align: middle;\n",
       "    }\n",
       "\n",
       "    .dataframe tbody tr th {\n",
       "        vertical-align: top;\n",
       "    }\n",
       "\n",
       "    .dataframe thead th {\n",
       "        text-align: right;\n",
       "    }\n",
       "</style>\n",
       "<table border=\"1\" class=\"dataframe\">\n",
       "  <thead>\n",
       "    <tr style=\"text-align: right;\">\n",
       "      <th></th>\n",
       "      <th>0</th>\n",
       "      <th>1</th>\n",
       "      <th>2</th>\n",
       "      <th>3</th>\n",
       "      <th>4</th>\n",
       "      <th>5</th>\n",
       "      <th>6</th>\n",
       "      <th>7</th>\n",
       "      <th>8</th>\n",
       "      <th>9</th>\n",
       "      <th>...</th>\n",
       "      <th>71</th>\n",
       "      <th>72</th>\n",
       "      <th>73</th>\n",
       "      <th>74</th>\n",
       "      <th>75</th>\n",
       "      <th>76</th>\n",
       "      <th>77</th>\n",
       "      <th>78</th>\n",
       "      <th>79</th>\n",
       "      <th>80</th>\n",
       "    </tr>\n",
       "  </thead>\n",
       "  <tbody>\n",
       "    <tr>\n",
       "      <th>60001</th>\n",
       "      <td>0.000000</td>\n",
       "      <td>0.000000</td>\n",
       "      <td>0.000000</td>\n",
       "      <td>0.000000</td>\n",
       "      <td>0.000000</td>\n",
       "      <td>0.000000</td>\n",
       "      <td>0.0</td>\n",
       "      <td>0.00000</td>\n",
       "      <td>0.000000</td>\n",
       "      <td>0.000000</td>\n",
       "      <td>...</td>\n",
       "      <td>0.013255</td>\n",
       "      <td>0.000000</td>\n",
       "      <td>0.006396</td>\n",
       "      <td>0.035906</td>\n",
       "      <td>0.223351</td>\n",
       "      <td>0.300159</td>\n",
       "      <td>0.152162</td>\n",
       "      <td>0.191831</td>\n",
       "      <td>0.008299</td>\n",
       "      <td>0.041158</td>\n",
       "    </tr>\n",
       "    <tr>\n",
       "      <th>60002</th>\n",
       "      <td>0.250961</td>\n",
       "      <td>0.092619</td>\n",
       "      <td>0.098012</td>\n",
       "      <td>0.075161</td>\n",
       "      <td>0.019356</td>\n",
       "      <td>0.000000</td>\n",
       "      <td>0.0</td>\n",
       "      <td>0.00000</td>\n",
       "      <td>0.000000</td>\n",
       "      <td>0.193605</td>\n",
       "      <td>...</td>\n",
       "      <td>0.042534</td>\n",
       "      <td>0.250961</td>\n",
       "      <td>0.007101</td>\n",
       "      <td>0.000598</td>\n",
       "      <td>0.000000</td>\n",
       "      <td>0.013129</td>\n",
       "      <td>0.031100</td>\n",
       "      <td>0.041707</td>\n",
       "      <td>0.065595</td>\n",
       "      <td>0.210734</td>\n",
       "    </tr>\n",
       "    <tr>\n",
       "      <th>60003</th>\n",
       "      <td>0.000407</td>\n",
       "      <td>0.000000</td>\n",
       "      <td>0.000000</td>\n",
       "      <td>0.000000</td>\n",
       "      <td>0.000000</td>\n",
       "      <td>0.000000</td>\n",
       "      <td>0.0</td>\n",
       "      <td>0.00000</td>\n",
       "      <td>0.000000</td>\n",
       "      <td>0.321854</td>\n",
       "      <td>...</td>\n",
       "      <td>0.321854</td>\n",
       "      <td>0.321854</td>\n",
       "      <td>0.000000</td>\n",
       "      <td>0.000678</td>\n",
       "      <td>0.000000</td>\n",
       "      <td>0.001899</td>\n",
       "      <td>0.000000</td>\n",
       "      <td>0.000000</td>\n",
       "      <td>0.000000</td>\n",
       "      <td>0.303841</td>\n",
       "    </tr>\n",
       "    <tr>\n",
       "      <th>60004</th>\n",
       "      <td>0.000000</td>\n",
       "      <td>0.000000</td>\n",
       "      <td>0.000000</td>\n",
       "      <td>0.000000</td>\n",
       "      <td>0.000000</td>\n",
       "      <td>0.000000</td>\n",
       "      <td>0.0</td>\n",
       "      <td>0.00000</td>\n",
       "      <td>0.000000</td>\n",
       "      <td>0.278664</td>\n",
       "      <td>...</td>\n",
       "      <td>0.293913</td>\n",
       "      <td>0.309130</td>\n",
       "      <td>0.000000</td>\n",
       "      <td>0.000000</td>\n",
       "      <td>0.000000</td>\n",
       "      <td>0.000000</td>\n",
       "      <td>0.000000</td>\n",
       "      <td>0.083724</td>\n",
       "      <td>0.083803</td>\n",
       "      <td>0.239632</td>\n",
       "    </tr>\n",
       "    <tr>\n",
       "      <th>60005</th>\n",
       "      <td>0.178356</td>\n",
       "      <td>0.120463</td>\n",
       "      <td>0.149333</td>\n",
       "      <td>0.000000</td>\n",
       "      <td>0.029741</td>\n",
       "      <td>0.014098</td>\n",
       "      <td>0.0</td>\n",
       "      <td>0.02017</td>\n",
       "      <td>0.012166</td>\n",
       "      <td>0.079189</td>\n",
       "      <td>...</td>\n",
       "      <td>0.037665</td>\n",
       "      <td>0.181672</td>\n",
       "      <td>0.020226</td>\n",
       "      <td>0.071549</td>\n",
       "      <td>0.023307</td>\n",
       "      <td>0.123461</td>\n",
       "      <td>0.004799</td>\n",
       "      <td>0.157402</td>\n",
       "      <td>0.239202</td>\n",
       "      <td>0.239202</td>\n",
       "    </tr>\n",
       "  </tbody>\n",
       "</table>\n",
       "<p>5 rows × 81 columns</p>\n",
       "</div>"
      ],
      "text/plain": [
       "             0         1         2         3         4         5    6   \\\n",
       "60001  0.000000  0.000000  0.000000  0.000000  0.000000  0.000000  0.0   \n",
       "60002  0.250961  0.092619  0.098012  0.075161  0.019356  0.000000  0.0   \n",
       "60003  0.000407  0.000000  0.000000  0.000000  0.000000  0.000000  0.0   \n",
       "60004  0.000000  0.000000  0.000000  0.000000  0.000000  0.000000  0.0   \n",
       "60005  0.178356  0.120463  0.149333  0.000000  0.029741  0.014098  0.0   \n",
       "\n",
       "            7         8         9   ...        71        72        73  \\\n",
       "60001  0.00000  0.000000  0.000000  ...  0.013255  0.000000  0.006396   \n",
       "60002  0.00000  0.000000  0.193605  ...  0.042534  0.250961  0.007101   \n",
       "60003  0.00000  0.000000  0.321854  ...  0.321854  0.321854  0.000000   \n",
       "60004  0.00000  0.000000  0.278664  ...  0.293913  0.309130  0.000000   \n",
       "60005  0.02017  0.012166  0.079189  ...  0.037665  0.181672  0.020226   \n",
       "\n",
       "             74        75        76        77        78        79        80  \n",
       "60001  0.035906  0.223351  0.300159  0.152162  0.191831  0.008299  0.041158  \n",
       "60002  0.000598  0.000000  0.013129  0.031100  0.041707  0.065595  0.210734  \n",
       "60003  0.000678  0.000000  0.001899  0.000000  0.000000  0.000000  0.303841  \n",
       "60004  0.000000  0.000000  0.000000  0.000000  0.083724  0.083803  0.239632  \n",
       "60005  0.071549  0.023307  0.123461  0.004799  0.157402  0.239202  0.239202  \n",
       "\n",
       "[5 rows x 81 columns]"
      ]
     },
     "execution_count": 31,
     "metadata": {},
     "output_type": "execute_result"
    }
   ],
   "source": [
    "X_test.sort_index(inplace=True)\n",
    "X_test.head()"
   ]
  },
  {
   "cell_type": "code",
   "execution_count": 32,
   "metadata": {},
   "outputs": [],
   "source": [
    "pred = model.predict(X_test)\n"
   ]
  },
  {
   "cell_type": "code",
   "execution_count": 33,
   "metadata": {},
   "outputs": [
    {
     "data": {
      "text/html": [
       "<div>\n",
       "<style scoped>\n",
       "    .dataframe tbody tr th:only-of-type {\n",
       "        vertical-align: middle;\n",
       "    }\n",
       "\n",
       "    .dataframe tbody tr th {\n",
       "        vertical-align: top;\n",
       "    }\n",
       "\n",
       "    .dataframe thead th {\n",
       "        text-align: right;\n",
       "    }\n",
       "</style>\n",
       "<table border=\"1\" class=\"dataframe\">\n",
       "  <thead>\n",
       "    <tr style=\"text-align: right;\">\n",
       "      <th></th>\n",
       "      <th>label</th>\n",
       "    </tr>\n",
       "    <tr>\n",
       "      <th>id</th>\n",
       "      <th></th>\n",
       "    </tr>\n",
       "  </thead>\n",
       "  <tbody>\n",
       "    <tr>\n",
       "      <th>60001</th>\n",
       "      <td>9</td>\n",
       "    </tr>\n",
       "    <tr>\n",
       "      <th>60002</th>\n",
       "      <td>4</td>\n",
       "    </tr>\n",
       "    <tr>\n",
       "      <th>60003</th>\n",
       "      <td>1</td>\n",
       "    </tr>\n",
       "    <tr>\n",
       "      <th>60004</th>\n",
       "      <td>1</td>\n",
       "    </tr>\n",
       "    <tr>\n",
       "      <th>60005</th>\n",
       "      <td>6</td>\n",
       "    </tr>\n",
       "  </tbody>\n",
       "</table>\n",
       "</div>"
      ],
      "text/plain": [
       "       label\n",
       "id          \n",
       "60001      9\n",
       "60002      4\n",
       "60003      1\n",
       "60004      1\n",
       "60005      6"
      ]
     },
     "execution_count": 33,
     "metadata": {},
     "output_type": "execute_result"
    }
   ],
   "source": [
    "df_submission['label'] = pred\n",
    "\n",
    "df_submission.to_csv(main_folder + 'submission_8.csv', index=True)\n",
    "\n",
    "df_submission.head()\n"
   ]
  },
  {
   "cell_type": "code",
   "execution_count": 34,
   "metadata": {},
   "outputs": [
    {
     "name": "stdout",
     "output_type": "stream",
     "text": [
      "Acheaved rank is 203 from 2310 participants, or top 8.79 %\n"
     ]
    }
   ],
   "source": [
    "# rank at submission\n",
    "rank = 203\n",
    "participants = 2310\n",
    "print('Acheaved rank is {} from {} participants, or top {} %'.format(\n",
    "            rank, participants, round(100*rank/participants, 2)))\n",
    "            "
   ]
  },
  {
   "cell_type": "code",
   "execution_count": null,
   "metadata": {},
   "outputs": [],
   "source": []
  },
  {
   "cell_type": "code",
   "execution_count": null,
   "metadata": {},
   "outputs": [],
   "source": []
  },
  {
   "cell_type": "code",
   "execution_count": null,
   "metadata": {},
   "outputs": [],
   "source": []
  }
 ],
 "metadata": {
  "kernelspec": {
   "display_name": "Python 3",
   "language": "python",
   "name": "python3"
  },
  "language_info": {
   "codemirror_mode": {
    "name": "ipython",
    "version": 3
   },
   "file_extension": ".py",
   "mimetype": "text/x-python",
   "name": "python",
   "nbconvert_exporter": "python",
   "pygments_lexer": "ipython3",
   "version": "3.7.3"
  }
 },
 "nbformat": 4,
 "nbformat_minor": 2
}
