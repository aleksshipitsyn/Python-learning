{
 "cells": [
  {
   "cell_type": "markdown",
   "metadata": {},
   "source": [
    "# Predict number of upvotes \n",
    "https://datahack.analyticsvidhya.com/contest/enigma-codefest-machine-learning-1/  \n",
    "**Aleksey Shipitsyn**    \n",
    "**2019-08-08**"
   ]
  },
  {
   "cell_type": "markdown",
   "metadata": {},
   "source": [
    "## Data readigng and exploration"
   ]
  },
  {
   "cell_type": "code",
   "execution_count": 1,
   "metadata": {},
   "outputs": [],
   "source": [
    "import numpy as np\n",
    "import pandas as pd\n",
    "import matplotlib.pyplot as plt\n",
    "import seaborn as sns; sns.set()\n"
   ]
  },
  {
   "cell_type": "code",
   "execution_count": 2,
   "metadata": {},
   "outputs": [],
   "source": [
    "# data files names\n",
    "folder = './Documents/Competitions/Number of upvotes/'\n",
    "file_train = 'train_NIR5Yl1.xls'\n",
    "file_test = 'test_8i3B3FC.xls'\n",
    "file_submission = 'sample_submission_OR5kZa5.xls'\n"
   ]
  },
  {
   "cell_type": "markdown",
   "metadata": {},
   "source": [
    "## Variables Definition\n",
    "\n",
    "**ID** = Question ID  \n",
    "**Tag** = Anonymised tags representing question category  \n",
    "**Reputation** = Reputation score of question author  \n",
    "**Answers**\t= Number of times question has been answered  \n",
    "**Username** = Anonymised user ID of question author  \n",
    "**Views** = Number of times question has been viewed  \n",
    "**Upvotes** = (Target) Number of upvotes for the question  \n"
   ]
  },
  {
   "cell_type": "code",
   "execution_count": 3,
   "metadata": {
    "scrolled": true
   },
   "outputs": [
    {
     "name": "stdout",
     "output_type": "stream",
     "text": [
      "DF shape: (330045, 7)\n",
      "\n",
      "TYPES:\n",
      "\n",
      "ID              int64\n",
      "Tag            object\n",
      "Reputation    float64\n",
      "Answers       float64\n",
      "Username        int64\n",
      "Views         float64\n",
      "Upvotes       float64\n",
      "dtype: object\n",
      "\n",
      "\n",
      "MISSING VALUES:\n",
      "\n",
      "ID            0\n",
      "Tag           0\n",
      "Reputation    0\n",
      "Answers       0\n",
      "Username      0\n",
      "Views         0\n",
      "Upvotes       0\n",
      "dtype: int64\n"
     ]
    }
   ],
   "source": [
    "# read and check train data\n",
    "df_train = pd.read_csv(folder + file_train) \n",
    "\n",
    "print('DF shape: {}\\n'.format(df_train.shape))\n",
    "print('TYPES:\\n\\n{}\\n\\n'.format(df_train.dtypes))\n",
    "print('MISSING VALUES:\\n\\n{}'.format(df_train.isnull().sum()))\n"
   ]
  },
  {
   "cell_type": "code",
   "execution_count": 4,
   "metadata": {},
   "outputs": [
    {
     "data": {
      "text/html": [
       "<div>\n",
       "<style scoped>\n",
       "    .dataframe tbody tr th:only-of-type {\n",
       "        vertical-align: middle;\n",
       "    }\n",
       "\n",
       "    .dataframe tbody tr th {\n",
       "        vertical-align: top;\n",
       "    }\n",
       "\n",
       "    .dataframe thead th {\n",
       "        text-align: right;\n",
       "    }\n",
       "</style>\n",
       "<table border=\"1\" class=\"dataframe\">\n",
       "  <thead>\n",
       "    <tr style=\"text-align: right;\">\n",
       "      <th></th>\n",
       "      <th>ID</th>\n",
       "      <th>Tag</th>\n",
       "      <th>Reputation</th>\n",
       "      <th>Answers</th>\n",
       "      <th>Username</th>\n",
       "      <th>Views</th>\n",
       "      <th>Upvotes</th>\n",
       "    </tr>\n",
       "  </thead>\n",
       "  <tbody>\n",
       "    <tr>\n",
       "      <th>0</th>\n",
       "      <td>52664</td>\n",
       "      <td>a</td>\n",
       "      <td>3942.0</td>\n",
       "      <td>2.0</td>\n",
       "      <td>155623</td>\n",
       "      <td>7855.0</td>\n",
       "      <td>42.0</td>\n",
       "    </tr>\n",
       "    <tr>\n",
       "      <th>1</th>\n",
       "      <td>327662</td>\n",
       "      <td>a</td>\n",
       "      <td>26046.0</td>\n",
       "      <td>12.0</td>\n",
       "      <td>21781</td>\n",
       "      <td>55801.0</td>\n",
       "      <td>1175.0</td>\n",
       "    </tr>\n",
       "    <tr>\n",
       "      <th>2</th>\n",
       "      <td>468453</td>\n",
       "      <td>c</td>\n",
       "      <td>1358.0</td>\n",
       "      <td>4.0</td>\n",
       "      <td>56177</td>\n",
       "      <td>8067.0</td>\n",
       "      <td>60.0</td>\n",
       "    </tr>\n",
       "    <tr>\n",
       "      <th>3</th>\n",
       "      <td>96996</td>\n",
       "      <td>a</td>\n",
       "      <td>264.0</td>\n",
       "      <td>3.0</td>\n",
       "      <td>168793</td>\n",
       "      <td>27064.0</td>\n",
       "      <td>9.0</td>\n",
       "    </tr>\n",
       "    <tr>\n",
       "      <th>4</th>\n",
       "      <td>131465</td>\n",
       "      <td>c</td>\n",
       "      <td>4271.0</td>\n",
       "      <td>4.0</td>\n",
       "      <td>112223</td>\n",
       "      <td>13986.0</td>\n",
       "      <td>83.0</td>\n",
       "    </tr>\n",
       "  </tbody>\n",
       "</table>\n",
       "</div>"
      ],
      "text/plain": [
       "       ID Tag  Reputation  Answers  Username    Views  Upvotes\n",
       "0   52664   a      3942.0      2.0    155623   7855.0     42.0\n",
       "1  327662   a     26046.0     12.0     21781  55801.0   1175.0\n",
       "2  468453   c      1358.0      4.0     56177   8067.0     60.0\n",
       "3   96996   a       264.0      3.0    168793  27064.0      9.0\n",
       "4  131465   c      4271.0      4.0    112223  13986.0     83.0"
      ]
     },
     "execution_count": 4,
     "metadata": {},
     "output_type": "execute_result"
    }
   ],
   "source": [
    "df_train.head()"
   ]
  },
  {
   "cell_type": "code",
   "execution_count": 5,
   "metadata": {},
   "outputs": [
    {
     "name": "stdout",
     "output_type": "stream",
     "text": [
      "DF shape: (141448, 6)\n",
      "\n",
      "TYPES:\n",
      "\n",
      "ID              int64\n",
      "Tag            object\n",
      "Reputation    float64\n",
      "Answers       float64\n",
      "Username        int64\n",
      "Views         float64\n",
      "dtype: object\n",
      "\n",
      "\n",
      "MISSING VALUES:\n",
      "\n",
      "ID            0\n",
      "Tag           0\n",
      "Reputation    0\n",
      "Answers       0\n",
      "Username      0\n",
      "Views         0\n",
      "dtype: int64\n"
     ]
    },
    {
     "data": {
      "text/html": [
       "<div>\n",
       "<style scoped>\n",
       "    .dataframe tbody tr th:only-of-type {\n",
       "        vertical-align: middle;\n",
       "    }\n",
       "\n",
       "    .dataframe tbody tr th {\n",
       "        vertical-align: top;\n",
       "    }\n",
       "\n",
       "    .dataframe thead th {\n",
       "        text-align: right;\n",
       "    }\n",
       "</style>\n",
       "<table border=\"1\" class=\"dataframe\">\n",
       "  <thead>\n",
       "    <tr style=\"text-align: right;\">\n",
       "      <th></th>\n",
       "      <th>ID</th>\n",
       "      <th>Tag</th>\n",
       "      <th>Reputation</th>\n",
       "      <th>Answers</th>\n",
       "      <th>Username</th>\n",
       "      <th>Views</th>\n",
       "    </tr>\n",
       "  </thead>\n",
       "  <tbody>\n",
       "    <tr>\n",
       "      <th>0</th>\n",
       "      <td>366953</td>\n",
       "      <td>a</td>\n",
       "      <td>5645.0</td>\n",
       "      <td>3.0</td>\n",
       "      <td>50652</td>\n",
       "      <td>33200.0</td>\n",
       "    </tr>\n",
       "    <tr>\n",
       "      <th>1</th>\n",
       "      <td>71864</td>\n",
       "      <td>c</td>\n",
       "      <td>24511.0</td>\n",
       "      <td>6.0</td>\n",
       "      <td>37685</td>\n",
       "      <td>2730.0</td>\n",
       "    </tr>\n",
       "    <tr>\n",
       "      <th>2</th>\n",
       "      <td>141692</td>\n",
       "      <td>i</td>\n",
       "      <td>927.0</td>\n",
       "      <td>1.0</td>\n",
       "      <td>135293</td>\n",
       "      <td>21167.0</td>\n",
       "    </tr>\n",
       "    <tr>\n",
       "      <th>3</th>\n",
       "      <td>316833</td>\n",
       "      <td>i</td>\n",
       "      <td>21.0</td>\n",
       "      <td>6.0</td>\n",
       "      <td>166998</td>\n",
       "      <td>18528.0</td>\n",
       "    </tr>\n",
       "    <tr>\n",
       "      <th>4</th>\n",
       "      <td>440445</td>\n",
       "      <td>i</td>\n",
       "      <td>4475.0</td>\n",
       "      <td>10.0</td>\n",
       "      <td>53504</td>\n",
       "      <td>57240.0</td>\n",
       "    </tr>\n",
       "  </tbody>\n",
       "</table>\n",
       "</div>"
      ],
      "text/plain": [
       "       ID Tag  Reputation  Answers  Username    Views\n",
       "0  366953   a      5645.0      3.0     50652  33200.0\n",
       "1   71864   c     24511.0      6.0     37685   2730.0\n",
       "2  141692   i       927.0      1.0    135293  21167.0\n",
       "3  316833   i        21.0      6.0    166998  18528.0\n",
       "4  440445   i      4475.0     10.0     53504  57240.0"
      ]
     },
     "execution_count": 5,
     "metadata": {},
     "output_type": "execute_result"
    }
   ],
   "source": [
    "# read and check test data\n",
    "df_test = pd.read_csv(folder + file_test) \n",
    "\n",
    "print('DF shape: {}\\n'.format(df_test.shape))\n",
    "print('TYPES:\\n\\n{}\\n\\n'.format(df_test.dtypes))\n",
    "print('MISSING VALUES:\\n\\n{}'.format(df_test.isnull().sum()))\n",
    "df_test.head()\n"
   ]
  },
  {
   "cell_type": "code",
   "execution_count": 6,
   "metadata": {
    "scrolled": true
   },
   "outputs": [
    {
     "name": "stdout",
     "output_type": "stream",
     "text": [
      "Submission and test files ID match: False\n",
      "\n",
      "DF shape: (141448, 2)\n",
      "\n",
      "TYPES:\n",
      "\n",
      "ID         int64\n",
      "Upvotes    int64\n",
      "dtype: object\n",
      "\n"
     ]
    },
    {
     "data": {
      "text/html": [
       "<div>\n",
       "<style scoped>\n",
       "    .dataframe tbody tr th:only-of-type {\n",
       "        vertical-align: middle;\n",
       "    }\n",
       "\n",
       "    .dataframe tbody tr th {\n",
       "        vertical-align: top;\n",
       "    }\n",
       "\n",
       "    .dataframe thead th {\n",
       "        text-align: right;\n",
       "    }\n",
       "</style>\n",
       "<table border=\"1\" class=\"dataframe\">\n",
       "  <thead>\n",
       "    <tr style=\"text-align: right;\">\n",
       "      <th></th>\n",
       "      <th>ID</th>\n",
       "      <th>Upvotes</th>\n",
       "    </tr>\n",
       "  </thead>\n",
       "  <tbody>\n",
       "    <tr>\n",
       "      <th>0</th>\n",
       "      <td>7</td>\n",
       "      <td>500</td>\n",
       "    </tr>\n",
       "    <tr>\n",
       "      <th>1</th>\n",
       "      <td>9</td>\n",
       "      <td>500</td>\n",
       "    </tr>\n",
       "    <tr>\n",
       "      <th>2</th>\n",
       "      <td>12</td>\n",
       "      <td>500</td>\n",
       "    </tr>\n",
       "    <tr>\n",
       "      <th>3</th>\n",
       "      <td>13</td>\n",
       "      <td>500</td>\n",
       "    </tr>\n",
       "    <tr>\n",
       "      <th>4</th>\n",
       "      <td>16</td>\n",
       "      <td>500</td>\n",
       "    </tr>\n",
       "  </tbody>\n",
       "</table>\n",
       "</div>"
      ],
      "text/plain": [
       "   ID  Upvotes\n",
       "0   7      500\n",
       "1   9      500\n",
       "2  12      500\n",
       "3  13      500\n",
       "4  16      500"
      ]
     },
     "execution_count": 6,
     "metadata": {},
     "output_type": "execute_result"
    }
   ],
   "source": [
    "# read submission data\n",
    "df_submission = pd.read_csv(folder + file_submission)\n",
    "\n",
    "# check if submission hash corresponds to test set\n",
    "print('Submission and test files ID match: {}\\n'.format(all(np.array(df_test['ID']) == df_submission['ID'])))\n",
    "\n",
    "print('DF shape: {}\\n'.format(df_submission.shape))\n",
    "print('TYPES:\\n\\n{}\\n'.format(df_submission.dtypes))\n",
    "\n",
    "df_submission.head()\n"
   ]
  },
  {
   "cell_type": "code",
   "execution_count": 7,
   "metadata": {},
   "outputs": [
    {
     "name": "stdout",
     "output_type": "stream",
     "text": [
      "Submission file is sorted: True\n",
      "\n",
      "Submission and test files ID match: True\n",
      "\n"
     ]
    }
   ],
   "source": [
    "# match ID of test and submission files\n",
    "\n",
    "print('Submission file is sorted: {}\\n'.format(all(np.array(df_submission['ID']) == np.sort(df_submission['ID']))))\n",
    "\n",
    "# sort the test set to match\n",
    "df_test = df_test.sort_values(by='ID')\n",
    "\n",
    "print('Submission and test files ID match: {}\\n'.format(all(np.array(df_test['ID']) == df_submission['ID'])))\n",
    "\n"
   ]
  },
  {
   "cell_type": "code",
   "execution_count": 8,
   "metadata": {},
   "outputs": [
    {
     "name": "stdout",
     "output_type": "stream",
     "text": [
      "Train data, all unique ID: True\n",
      "Test data, all unique ID: True\n"
     ]
    }
   ],
   "source": [
    "# check ID uniqueness\n",
    "\n",
    "print('Train data, all unique ID: {}'.format(len(df_train.ID.unique()) == df_train.shape[0]))\n",
    "print('Test data, all unique ID: {}'.format(len(df_test.ID.unique()) == df_test.shape[0]))\n"
   ]
  },
  {
   "cell_type": "markdown",
   "metadata": {},
   "source": [
    "## Data preprocessing  \n",
    "\n",
    "- Select vars of interest\n",
    "- Normalize numeric vars\n",
    "- Categorical to dummy  \n",
    "- Train data split for training and validation subsets  \n"
   ]
  },
  {
   "cell_type": "code",
   "execution_count": 9,
   "metadata": {},
   "outputs": [],
   "source": [
    "# check target outliers\n",
    "def summary(x):\n",
    "    return {'min': np.min(x), \n",
    "            'mean': np.mean(x), \n",
    "            'median': np.median(x),\n",
    "            'percentile_95': np.percentile(x, 95), \n",
    "            'percentile_99': np.percentile(x, 99),\n",
    "            'max': np.max(x)}\n",
    "\n",
    "\n",
    "def log_normilize(a):\n",
    "    x = a.copy()\n",
    "    x[x == 0] = 0.000001\n",
    "    x = np.log(x)\n",
    "    x[x < 0] = -1\n",
    "    return x\n"
   ]
  },
  {
   "cell_type": "code",
   "execution_count": 10,
   "metadata": {
    "scrolled": true
   },
   "outputs": [],
   "source": [
    "#sns.pairplot(df_train[['Reputation','Answers','Views','Upvotes']], height=1.5);"
   ]
  },
  {
   "cell_type": "markdown",
   "metadata": {},
   "source": [
    "### Normalize numeric vars"
   ]
  },
  {
   "cell_type": "code",
   "execution_count": 11,
   "metadata": {},
   "outputs": [],
   "source": [
    "# select columns for X and y\n",
    "col = df_train.columns[(df_train.columns != 'Upvotes') & (df_train.columns != 'ID')]\n",
    "X = df_train[col].copy()\n",
    "y = df_train['Upvotes'].copy().ravel()\n",
    "X_test = df_test[col].copy()\n"
   ]
  },
  {
   "cell_type": "code",
   "execution_count": 12,
   "metadata": {},
   "outputs": [
    {
     "data": {
      "text/plain": [
       "{'min': 0.0,\n",
       " 'mean': 337.5053583602236,\n",
       " 'median': 28.0,\n",
       " 'percentile_95': 959.0,\n",
       " 'percentile_99': 5030.0,\n",
       " 'max': 615278.0}"
      ]
     },
     "execution_count": 12,
     "metadata": {},
     "output_type": "execute_result"
    }
   ],
   "source": [
    "# target\n",
    "summary(y)"
   ]
  },
  {
   "cell_type": "code",
   "execution_count": 13,
   "metadata": {},
   "outputs": [
    {
     "data": {
      "image/png": "[encoded data removed]",
      "text/plain": [
       "<Figure size 432x288 with 1 Axes>"
      ]
     },
     "metadata": {
      "needs_background": "light"
     },
     "output_type": "display_data"
    }
   ],
   "source": [
    "y = log_normilize(y)\n",
    "plt.hist(y, bins=50);"
   ]
  },
  {
   "cell_type": "code",
   "execution_count": 14,
   "metadata": {},
   "outputs": [
    {
     "data": {
      "text/plain": [
       "{'min': 0.0,\n",
       " 'mean': 7773.146798163887,\n",
       " 'median': 1236.0,\n",
       " 'percentile_95': 32209.0,\n",
       " 'percentile_99': 113925.0,\n",
       " 'max': 1042428.0}"
      ]
     },
     "execution_count": 14,
     "metadata": {},
     "output_type": "execute_result"
    }
   ],
   "source": [
    "summary(X.Reputation)"
   ]
  },
  {
   "cell_type": "code",
   "execution_count": 15,
   "metadata": {},
   "outputs": [],
   "source": [
    "X[['Reputation','Answers','Views']] = X[['Reputation','Answers','Views']].apply(lambda x: log_normilize(x))\n",
    "\n",
    "X_test[['Reputation','Answers','Views']] = X_test[['Reputation','Answers','Views']].apply(lambda x: log_normilize(x))"
   ]
  },
  {
   "cell_type": "code",
   "execution_count": 16,
   "metadata": {},
   "outputs": [
    {
     "data": {
      "image/png": "[encoded data removed]",
      "text/plain": [
       "<Figure size 432x288 with 1 Axes>"
      ]
     },
     "metadata": {
      "needs_background": "light"
     },
     "output_type": "display_data"
    }
   ],
   "source": [
    "plt.hist(X.Reputation, bins=50);"
   ]
  },
  {
   "cell_type": "code",
   "execution_count": 17,
   "metadata": {},
   "outputs": [
    {
     "data": {
      "image/png": "[encoded data removed]",
      "text/plain": [
       "<Figure size 432x288 with 1 Axes>"
      ]
     },
     "metadata": {
      "needs_background": "light"
     },
     "output_type": "display_data"
    }
   ],
   "source": [
    "plt.hist(X.Answers, bins=50);"
   ]
  },
  {
   "cell_type": "code",
   "execution_count": 18,
   "metadata": {},
   "outputs": [
    {
     "data": {
      "image/png": "[encoded data removed]",
      "text/plain": [
       "<Figure size 432x288 with 1 Axes>"
      ]
     },
     "metadata": {
      "needs_background": "light"
     },
     "output_type": "display_data"
    }
   ],
   "source": [
    "plt.hist(X.Views, bins=50);"
   ]
  },
  {
   "cell_type": "code",
   "execution_count": 19,
   "metadata": {
    "scrolled": true
   },
   "outputs": [],
   "source": [
    "#sns.pairplot(X[['Reputation','Answers','Views']], height=1.5);"
   ]
  },
  {
   "cell_type": "code",
   "execution_count": 20,
   "metadata": {},
   "outputs": [
    {
     "name": "stdout",
     "output_type": "stream",
     "text": [
      "Number of different users: 141802\n"
     ]
    }
   ],
   "source": [
    "# Username classes \n",
    "print('Number of different users: {}'.format(len(X.Username.unique())))\n"
   ]
  },
  {
   "cell_type": "code",
   "execution_count": 21,
   "metadata": {},
   "outputs": [
    {
     "data": {
      "image/png": "[encoded data removed]",
      "text/plain": [
       "<Figure size 432x288 with 1 Axes>"
      ]
     },
     "metadata": {
      "needs_background": "light"
     },
     "output_type": "display_data"
    }
   ],
   "source": [
    "# Post count\n",
    "tab = pd.crosstab(index=X.Username, columns=['Username'], normalize=False)\n",
    "tab = pd.DataFrame({'Username': np.array(tab.index), 'N_posts': tab.values.ravel()})\n",
    "tab['N_posts'] = log_normilize(tab['N_posts'])\n",
    "\n",
    "plt.hist(tab.N_posts, bins=50); \n"
   ]
  },
  {
   "cell_type": "code",
   "execution_count": 22,
   "metadata": {},
   "outputs": [
    {
     "name": "stdout",
     "output_type": "stream",
     "text": [
      "MISSING VALUES in X:\n",
      "\n",
      "Tag           0\n",
      "Reputation    0\n",
      "Answers       0\n",
      "Views         0\n",
      "N_posts       0\n",
      "dtype: int64\n",
      "MISSING VALUES in X_test:\n",
      "\n",
      "Tag           0\n",
      "Reputation    0\n",
      "Answers       0\n",
      "Views         0\n",
      "N_posts       0\n",
      "dtype: int64\n"
     ]
    }
   ],
   "source": [
    "# Add count of post as a feature\n",
    "X = X.merge(tab, how='left', on='Username').copy()\n",
    "X_test = X_test.merge(tab, how='left', on='Username').copy()\n",
    "X_test.loc[X_test.N_posts.isnull(), 'N_posts'] = 0\n",
    "\n",
    "# delete Username\n",
    "X = X.drop(columns='Username').copy()\n",
    "X_test = X_test.drop(columns='Username').copy()\n",
    "\n",
    "# check missing values\n",
    "print('MISSING VALUES in X:\\n\\n{}'.format(X.isnull().sum()))\n",
    "print('MISSING VALUES in X_test:\\n\\n{}'.format(X_test.isnull().sum()))\n"
   ]
  },
  {
   "cell_type": "code",
   "execution_count": 23,
   "metadata": {
    "scrolled": true
   },
   "outputs": [
    {
     "name": "stdout",
     "output_type": "stream",
     "text": [
      "MISSING VALUES in X: 0\n",
      "MISSING VALUES in X_test: 0\n"
     ]
    },
    {
     "data": {
      "text/plain": [
       "((330045, 125), (141448, 125))"
      ]
     },
     "execution_count": 23,
     "metadata": {},
     "output_type": "execute_result"
    }
   ],
   "source": [
    "# Add polinomial features\n",
    "from sklearn.preprocessing import PolynomialFeatures\n",
    "\n",
    "poly = PolynomialFeatures(degree=5, include_bias=False)\n",
    "\n",
    "X2 = pd.DataFrame(poly.fit_transform(X[['Reputation','Answers','Views','N_posts']]))\n",
    "X2_test = pd.DataFrame(poly.transform(X_test[['Reputation','Answers','Views','N_posts']]))\n",
    "\n",
    "# check missing values\n",
    "print('MISSING VALUES in X: {}'.format(sum(X2.isnull().sum())))\n",
    "print('MISSING VALUES in X_test: {}'.format(sum(X2_test.isnull().sum())))\n",
    "\n",
    "X2.shape, X2_test.shape\n"
   ]
  },
  {
   "cell_type": "markdown",
   "metadata": {},
   "source": [
    "### Categorical to dummy"
   ]
  },
  {
   "cell_type": "code",
   "execution_count": 24,
   "metadata": {
    "scrolled": true
   },
   "outputs": [
    {
     "data": {
      "text/html": [
       "<div>\n",
       "<style scoped>\n",
       "    .dataframe tbody tr th:only-of-type {\n",
       "        vertical-align: middle;\n",
       "    }\n",
       "\n",
       "    .dataframe tbody tr th {\n",
       "        vertical-align: top;\n",
       "    }\n",
       "\n",
       "    .dataframe thead th {\n",
       "        text-align: right;\n",
       "    }\n",
       "</style>\n",
       "<table border=\"1\" class=\"dataframe\">\n",
       "  <thead>\n",
       "    <tr style=\"text-align: right;\">\n",
       "      <th>col_0</th>\n",
       "      <th>Tag</th>\n",
       "    </tr>\n",
       "    <tr>\n",
       "      <th>Tag</th>\n",
       "      <th></th>\n",
       "    </tr>\n",
       "  </thead>\n",
       "  <tbody>\n",
       "    <tr>\n",
       "      <th>a</th>\n",
       "      <td>0.10</td>\n",
       "    </tr>\n",
       "    <tr>\n",
       "      <th>c</th>\n",
       "      <td>0.22</td>\n",
       "    </tr>\n",
       "    <tr>\n",
       "      <th>h</th>\n",
       "      <td>0.06</td>\n",
       "    </tr>\n",
       "    <tr>\n",
       "      <th>i</th>\n",
       "      <td>0.10</td>\n",
       "    </tr>\n",
       "    <tr>\n",
       "      <th>j</th>\n",
       "      <td>0.22</td>\n",
       "    </tr>\n",
       "    <tr>\n",
       "      <th>o</th>\n",
       "      <td>0.04</td>\n",
       "    </tr>\n",
       "    <tr>\n",
       "      <th>p</th>\n",
       "      <td>0.13</td>\n",
       "    </tr>\n",
       "    <tr>\n",
       "      <th>r</th>\n",
       "      <td>0.04</td>\n",
       "    </tr>\n",
       "    <tr>\n",
       "      <th>s</th>\n",
       "      <td>0.07</td>\n",
       "    </tr>\n",
       "    <tr>\n",
       "      <th>x</th>\n",
       "      <td>0.02</td>\n",
       "    </tr>\n",
       "  </tbody>\n",
       "</table>\n",
       "</div>"
      ],
      "text/plain": [
       "col_0   Tag\n",
       "Tag        \n",
       "a      0.10\n",
       "c      0.22\n",
       "h      0.06\n",
       "i      0.10\n",
       "j      0.22\n",
       "o      0.04\n",
       "p      0.13\n",
       "r      0.04\n",
       "s      0.07\n",
       "x      0.02"
      ]
     },
     "execution_count": 24,
     "metadata": {},
     "output_type": "execute_result"
    }
   ],
   "source": [
    "# Tags classes\n",
    "pd.crosstab(index=X.Tag, columns=['Tag'], normalize=True).round(2)\n"
   ]
  },
  {
   "cell_type": "code",
   "execution_count": 25,
   "metadata": {
    "scrolled": true
   },
   "outputs": [
    {
     "name": "stdout",
     "output_type": "stream",
     "text": [
      "Shape before: [(330045, 5), (141448, 5), (471493,)]\n",
      "Shape after: [(330045, 9), (141448, 9)]\n",
      "MISSING VALUES X_tag: 0\n",
      "MISSING VALUES X_tag_test: 0\n",
      "Shape features: [(330045, 134), (141448, 134)]\n",
      "\n"
     ]
    }
   ],
   "source": [
    "# combine training and test data for complete categories sets\n",
    "combind = pd.concat([X.Tag, X_test.Tag], ignore_index=True, axis=0)\n",
    "\n",
    "print('Shape before: {}'.format([X.shape, X_test.shape, combind.shape]))\n",
    "\n",
    "# to dummies\n",
    "D = pd.get_dummies(combind, drop_first=True).copy()\n",
    "X_tag = D.loc[:(X.shape[0]-1),].copy()\n",
    "X_tag_test = D.loc[X.shape[0]:,].copy()\n",
    "\n",
    "# reset index to join correctly\n",
    "X_tag_test.set_index(X2_test.index, inplace=True)\n",
    "\n",
    "\n",
    "print('Shape after: {}'.format([X_tag.shape, X_tag_test.shape]))\n",
    "\n",
    "print('MISSING VALUES X_tag: {}'.format(sum(X_tag.isnull().sum())))\n",
    "print('MISSING VALUES X_tag_test: {}'.format(sum(X_tag_test.isnull().sum())))\n",
    "\n",
    "\n",
    "# join all features\n",
    "X = pd.concat([X2, X_tag], ignore_index=True, axis=1).copy()\n",
    "\n",
    "X_test = pd.concat([X2_test, X_tag_test], ignore_index=True, axis=1).copy()\n",
    "\n",
    "print('Shape features: {}\\n'.format([X.shape, X_test.shape]))\n"
   ]
  },
  {
   "cell_type": "code",
   "execution_count": 26,
   "metadata": {},
   "outputs": [],
   "source": [
    "\"\"\"\n",
    "# combine training and test data for complete categories sets\n",
    "combind = pd.concat([X, X_test], ignore_index=True, axis=0)\n",
    "\n",
    "print('Shape before: {}'.format([X.shape, X_test.shape, combind.shape]))\n",
    "\n",
    "# to dummies\n",
    "D = pd.get_dummies(combind, drop_first=True).copy()\n",
    "X = D.loc[:(X.shape[0]-1),].copy()\n",
    "X_test = D.loc[X.shape[0]:,].copy()\n",
    "\n",
    "print('Shape after: {}'.format([X.shape, X_test.shape]))\n",
    "\n",
    "print('MISSING VALUES X_tag: {}'.format(sum(X.isnull().sum())))\n",
    "print('MISSING VALUES X_tag_test: {}'.format(sum(X_test.isnull().sum())))\"\"\";\n"
   ]
  },
  {
   "cell_type": "markdown",
   "metadata": {},
   "source": [
    "### Scale"
   ]
  },
  {
   "cell_type": "code",
   "execution_count": 27,
   "metadata": {},
   "outputs": [],
   "source": [
    "from sklearn.preprocessing import StandardScaler\n",
    "\n",
    "scaler = StandardScaler()\n",
    "scaler.fit(X)\n",
    "\n",
    "X = scaler.transform(X)\n",
    "X_test = scaler.transform(X_test)\n"
   ]
  },
  {
   "cell_type": "markdown",
   "metadata": {},
   "source": [
    "### Train data split for training and validation subsets"
   ]
  },
  {
   "cell_type": "code",
   "execution_count": 28,
   "metadata": {},
   "outputs": [
    {
     "data": {
      "text/plain": [
       "((247533, 134), (247533,), (82512, 134), (82512,))"
      ]
     },
     "execution_count": 28,
     "metadata": {},
     "output_type": "execute_result"
    }
   ],
   "source": [
    "# Split training data to training and validation subsets\n",
    "\n",
    "from sklearn.model_selection import train_test_split\n",
    "X_train, X_valid, y_train, y_valid = train_test_split(X, y, test_size=0.25, random_state=42)\n",
    "X_train.shape, y_train.shape, X_valid.shape, y_valid.shape\n"
   ]
  },
  {
   "cell_type": "markdown",
   "metadata": {},
   "source": [
    "## Modeling"
   ]
  },
  {
   "cell_type": "code",
   "execution_count": 29,
   "metadata": {},
   "outputs": [],
   "source": [
    "from xgboost import XGBRFRegressor\n",
    "from sklearn.linear_model import LinearRegression, Lasso, Ridge\n"
   ]
  },
  {
   "cell_type": "code",
   "execution_count": 30,
   "metadata": {},
   "outputs": [],
   "source": [
    "from sklearn.metrics import mean_squared_error\n",
    "\n",
    "def metric(actual, predicted):\n",
    "    return np.sqrt(mean_squared_error(actual, predicted))"
   ]
  },
  {
   "cell_type": "markdown",
   "metadata": {},
   "source": [
    "### Models"
   ]
  },
  {
   "cell_type": "code",
   "execution_count": 31,
   "metadata": {},
   "outputs": [],
   "source": [
    "lm = LinearRegression(normalize=False)\n",
    "lm.fit(X_train, y_train)\n",
    "\n",
    "lasso = Lasso(normalize=False)\n",
    "lasso.fit(X_train, y_train)\n",
    "\n",
    "ridge = Ridge(normalize=False)\n",
    "ridge.fit(X_train, y_train);\n",
    "\n",
    "xgb = XGBRFRegressor(n_estimators=100, learning_rate=1, objective='reg:squarederror', n_jobs=8)\n",
    "xgb.fit(X_train, y_train);\n"
   ]
  },
  {
   "cell_type": "code",
   "execution_count": 32,
   "metadata": {},
   "outputs": [
    {
     "name": "stdout",
     "output_type": "stream",
     "text": [
      "Linear model:\n",
      "Score for training set: 0.8512145451493458\n",
      "Score for validation set: 0.8368046836623566\n",
      "\n",
      "Lasso:\n",
      "Score for training set: 1.3682837178819842\n",
      "Score for validation set: 1.3600965809141607\n",
      "\n",
      "Ridge:\n",
      "Score for training set: 0.8518517204575935\n",
      "Score for validation set: 0.8372638939897665\n",
      "\n",
      "XGBoost:\n",
      "Score for training set: 0.9190381423988306\n",
      "Score for validation set: 0.9075222841057358\n",
      "\n"
     ]
    }
   ],
   "source": [
    "# Evaluation \n",
    "\n",
    "print('Linear model:')\n",
    "print('Score for training set: {}'.format( metric(y_train, lm.predict(X_train))) )\n",
    "print('Score for validation set: {}\\n'.format( metric(y_valid, lm.predict(X_valid))) )\n",
    "\n",
    "\n",
    "print('Lasso:')\n",
    "print('Score for training set: {}'.format( metric(y_train, lasso.predict(X_train))) )\n",
    "print('Score for validation set: {}\\n'.format( metric(y_valid, lasso.predict(X_valid))) )\n",
    "\n",
    "\n",
    "print('Ridge:')\n",
    "print('Score for training set: {}'.format( metric(y_train, ridge.predict(X_train))) )\n",
    "print('Score for validation set: {}\\n'.format( metric(y_valid, ridge.predict(X_valid))) )\n",
    "\n",
    "      \n",
    "print('XGBoost:')\n",
    "print('Score for training set: {}'.format( metric(y_train, xgb.predict(X_train))) )\n",
    "print('Score for validation set: {}\\n'.format( metric(y_valid, xgb.predict(X_valid))) )\n",
    "\n"
   ]
  },
  {
   "cell_type": "code",
   "execution_count": 38,
   "metadata": {},
   "outputs": [
    {
     "name": "stdout",
     "output_type": "stream",
     "text": [
      "Score for training set: 0.8480816142605574\n"
     ]
    }
   ],
   "source": [
    "# retrain the model on all training data\n",
    "\n",
    "model = ridge\n",
    "model.fit(X, y)\n",
    "\n",
    "print('Score for training set: {}'.format(metric(y, model.predict(X))))\n"
   ]
  },
  {
   "cell_type": "markdown",
   "metadata": {},
   "source": [
    "## Submission"
   ]
  },
  {
   "cell_type": "code",
   "execution_count": 39,
   "metadata": {},
   "outputs": [
    {
     "data": {
      "text/plain": [
       "{'min': 0,\n",
       " 'mean': 307.2305016684577,\n",
       " 'median': 23.0,\n",
       " 'percentile_95': 946.0,\n",
       " 'percentile_99': 5164.059999999998,\n",
       " 'max': 176381}"
      ]
     },
     "execution_count": 39,
     "metadata": {},
     "output_type": "execute_result"
    }
   ],
   "source": [
    "pred = model.predict(X_test)\n",
    "pred = np.exp(pred).round().astype(int)\n",
    "summary(pred)\n",
    "\n",
    "# pd.DataFrame({'pred': pred})#, 'y': np.exp(y_valid).round().astype(int)})"
   ]
  },
  {
   "cell_type": "code",
   "execution_count": 40,
   "metadata": {},
   "outputs": [
    {
     "data": {
      "text/html": [
       "<div>\n",
       "<style scoped>\n",
       "    .dataframe tbody tr th:only-of-type {\n",
       "        vertical-align: middle;\n",
       "    }\n",
       "\n",
       "    .dataframe tbody tr th {\n",
       "        vertical-align: top;\n",
       "    }\n",
       "\n",
       "    .dataframe thead th {\n",
       "        text-align: right;\n",
       "    }\n",
       "</style>\n",
       "<table border=\"1\" class=\"dataframe\">\n",
       "  <thead>\n",
       "    <tr style=\"text-align: right;\">\n",
       "      <th></th>\n",
       "      <th>ID</th>\n",
       "      <th>Upvotes</th>\n",
       "    </tr>\n",
       "  </thead>\n",
       "  <tbody>\n",
       "    <tr>\n",
       "      <th>0</th>\n",
       "      <td>7</td>\n",
       "      <td>690</td>\n",
       "    </tr>\n",
       "    <tr>\n",
       "      <th>1</th>\n",
       "      <td>9</td>\n",
       "      <td>19</td>\n",
       "    </tr>\n",
       "    <tr>\n",
       "      <th>2</th>\n",
       "      <td>12</td>\n",
       "      <td>43</td>\n",
       "    </tr>\n",
       "    <tr>\n",
       "      <th>3</th>\n",
       "      <td>13</td>\n",
       "      <td>312</td>\n",
       "    </tr>\n",
       "    <tr>\n",
       "      <th>4</th>\n",
       "      <td>16</td>\n",
       "      <td>28</td>\n",
       "    </tr>\n",
       "  </tbody>\n",
       "</table>\n",
       "</div>"
      ],
      "text/plain": [
       "   ID  Upvotes\n",
       "0   7      690\n",
       "1   9       19\n",
       "2  12       43\n",
       "3  13      312\n",
       "4  16       28"
      ]
     },
     "execution_count": 40,
     "metadata": {},
     "output_type": "execute_result"
    }
   ],
   "source": [
    "df_submission['Upvotes'] = pred\n",
    "\n",
    "df_submission.to_csv(folder + 'submission_11.csv', index=False)\n",
    "\n",
    "df_submission.head()\n"
   ]
  },
  {
   "cell_type": "code",
   "execution_count": 37,
   "metadata": {},
   "outputs": [
    {
     "name": "stdout",
     "output_type": "stream",
     "text": [
      "Acheaved rank is 396 from 2320 participants, or top 17.07 %\n"
     ]
    }
   ],
   "source": [
    "# rank at submission\n",
    "rank = 396\n",
    "participants = 2320\n",
    "print('Acheaved rank is {} from {} participants, or top {} %'.format(\n",
    "            rank, participants, round(100*rank/participants, 2)))\n",
    "            "
   ]
  },
  {
   "cell_type": "code",
   "execution_count": null,
   "metadata": {},
   "outputs": [],
   "source": []
  },
  {
   "cell_type": "code",
   "execution_count": null,
   "metadata": {},
   "outputs": [],
   "source": []
  },
  {
   "cell_type": "code",
   "execution_count": null,
   "metadata": {},
   "outputs": [],
   "source": []
  }
 ],
 "metadata": {
  "kernelspec": {
   "display_name": "Python 3",
   "language": "python",
   "name": "python3"
  },
  "language_info": {
   "codemirror_mode": {
    "name": "ipython",
    "version": 3
   },
   "file_extension": ".py",
   "mimetype": "text/x-python",
   "name": "python",
   "nbconvert_exporter": "python",
   "pygments_lexer": "ipython3",
   "version": "3.7.3"
  }
 },
 "nbformat": 4,
 "nbformat_minor": 2
}
