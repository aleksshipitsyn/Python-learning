{
 "cells": [
  {
   "cell_type": "markdown",
   "metadata": {},
   "source": [
    "# Food Demand Forecasting Challenge\n",
    "https://datahack.analyticsvidhya.com/contest/genpact-machine-learning-hackathon-1/  \n",
    "**Aleksey Shipitsyn**    \n",
    "**2019-07-22**"
   ]
  },
  {
   "cell_type": "markdown",
   "metadata": {},
   "source": [
    "# Read and Explore Train Data"
   ]
  },
  {
   "cell_type": "code",
   "execution_count": 209,
   "metadata": {},
   "outputs": [],
   "source": [
    "import numpy as np\n",
    "import pandas as pd\n"
   ]
  },
  {
   "cell_type": "code",
   "execution_count": 210,
   "metadata": {},
   "outputs": [
    {
     "name": "stdout",
     "output_type": "stream",
     "text": [
      "id                       0\n",
      "week                     0\n",
      "center_id                0\n",
      "meal_id                  0\n",
      "checkout_price           0\n",
      "base_price               0\n",
      "emailer_for_promotion    0\n",
      "homepage_featured        0\n",
      "num_orders               0\n",
      "dtype: int64 \n",
      "\n",
      "shape: (456548, 9) \n",
      "\n",
      "dtype: id                        object\n",
      "week                       int64\n",
      "center_id                 object\n",
      "meal_id                   object\n",
      "checkout_price           float64\n",
      "base_price               float64\n",
      "emailer_for_promotion      int64\n",
      "homepage_featured          int64\n",
      "num_orders                 int64\n",
      "dtype: object \n",
      "\n",
      "['55' '24' '11' '83' '32' '13' '109' '52' '93' '186' '146' '57' '149' '89'\n",
      " '124' '152' '97' '74' '108' '99' '66' '94' '91' '20' '34' '137' '92'\n",
      " '126' '36' '162' '75' '177' '27' '157' '106' '64' '129' '14' '17' '153'\n",
      " '139' '161' '81' '26' '73' '50' '104' '42' '113' '145' '53' '72' '67'\n",
      " '174' '29' '77' '41' '30' '76' '59' '88' '143' '58' '10' '101' '80' '43'\n",
      " '65' '39' '102' '110' '132' '23' '86' '68' '51' '61']\n"
     ]
    },
    {
     "data": {
      "text/html": [
       "<div>\n",
       "<style scoped>\n",
       "    .dataframe tbody tr th:only-of-type {\n",
       "        vertical-align: middle;\n",
       "    }\n",
       "\n",
       "    .dataframe tbody tr th {\n",
       "        vertical-align: top;\n",
       "    }\n",
       "\n",
       "    .dataframe thead th {\n",
       "        text-align: right;\n",
       "    }\n",
       "</style>\n",
       "<table border=\"1\" class=\"dataframe\">\n",
       "  <thead>\n",
       "    <tr style=\"text-align: right;\">\n",
       "      <th></th>\n",
       "      <th>id</th>\n",
       "      <th>week</th>\n",
       "      <th>center_id</th>\n",
       "      <th>meal_id</th>\n",
       "      <th>checkout_price</th>\n",
       "      <th>base_price</th>\n",
       "      <th>emailer_for_promotion</th>\n",
       "      <th>homepage_featured</th>\n",
       "      <th>num_orders</th>\n",
       "    </tr>\n",
       "  </thead>\n",
       "  <tbody>\n",
       "    <tr>\n",
       "      <th>0</th>\n",
       "      <td>1379560</td>\n",
       "      <td>1</td>\n",
       "      <td>55</td>\n",
       "      <td>1885</td>\n",
       "      <td>136.83</td>\n",
       "      <td>152.29</td>\n",
       "      <td>0</td>\n",
       "      <td>0</td>\n",
       "      <td>177</td>\n",
       "    </tr>\n",
       "    <tr>\n",
       "      <th>1</th>\n",
       "      <td>1466964</td>\n",
       "      <td>1</td>\n",
       "      <td>55</td>\n",
       "      <td>1993</td>\n",
       "      <td>136.83</td>\n",
       "      <td>135.83</td>\n",
       "      <td>0</td>\n",
       "      <td>0</td>\n",
       "      <td>270</td>\n",
       "    </tr>\n",
       "    <tr>\n",
       "      <th>2</th>\n",
       "      <td>1346989</td>\n",
       "      <td>1</td>\n",
       "      <td>55</td>\n",
       "      <td>2539</td>\n",
       "      <td>134.86</td>\n",
       "      <td>135.86</td>\n",
       "      <td>0</td>\n",
       "      <td>0</td>\n",
       "      <td>189</td>\n",
       "    </tr>\n",
       "    <tr>\n",
       "      <th>3</th>\n",
       "      <td>1338232</td>\n",
       "      <td>1</td>\n",
       "      <td>55</td>\n",
       "      <td>2139</td>\n",
       "      <td>339.50</td>\n",
       "      <td>437.53</td>\n",
       "      <td>0</td>\n",
       "      <td>0</td>\n",
       "      <td>54</td>\n",
       "    </tr>\n",
       "    <tr>\n",
       "      <th>4</th>\n",
       "      <td>1448490</td>\n",
       "      <td>1</td>\n",
       "      <td>55</td>\n",
       "      <td>2631</td>\n",
       "      <td>243.50</td>\n",
       "      <td>242.50</td>\n",
       "      <td>0</td>\n",
       "      <td>0</td>\n",
       "      <td>40</td>\n",
       "    </tr>\n",
       "  </tbody>\n",
       "</table>\n",
       "</div>"
      ],
      "text/plain": [
       "        id  week center_id meal_id  checkout_price  base_price  \\\n",
       "0  1379560     1        55    1885          136.83      152.29   \n",
       "1  1466964     1        55    1993          136.83      135.83   \n",
       "2  1346989     1        55    2539          134.86      135.86   \n",
       "3  1338232     1        55    2139          339.50      437.53   \n",
       "4  1448490     1        55    2631          243.50      242.50   \n",
       "\n",
       "   emailer_for_promotion  homepage_featured  num_orders  \n",
       "0                      0                  0         177  \n",
       "1                      0                  0         270  \n",
       "2                      0                  0         189  \n",
       "3                      0                  0          54  \n",
       "4                      0                  0          40  "
      ]
     },
     "execution_count": 210,
     "metadata": {},
     "output_type": "execute_result"
    }
   ],
   "source": [
    "# weekly demand data\n",
    "df_demand = pd.read_csv('./Documents/Competitions/Food Demand/train_GzS76OK/train.csv',\n",
    "                       dtype={'id': str, 'week': int, 'center_id': str, 'meal_id': str, \n",
    "                              'checkout_price': float, 'base_price': float, \n",
    "                              'emailer_for_promotion': int, 'homepage_featured': int, 'num_orders': int})\n",
    "\n",
    "print(df_demand.isnull().sum(),'\\n')\n",
    "\n",
    "print('shape:', df_demand.shape, '\\n')\n",
    "\n",
    "print('dtype:', df_demand.dtypes, '\\n')\n",
    "\n",
    "print(df_demand.center_id.unique())\n",
    "\n",
    "\n",
    "df_demand.head()"
   ]
  },
  {
   "cell_type": "code",
   "execution_count": 211,
   "metadata": {},
   "outputs": [
    {
     "data": {
      "text/html": [
       "<div>\n",
       "<style scoped>\n",
       "    .dataframe tbody tr th:only-of-type {\n",
       "        vertical-align: middle;\n",
       "    }\n",
       "\n",
       "    .dataframe tbody tr th {\n",
       "        vertical-align: top;\n",
       "    }\n",
       "\n",
       "    .dataframe thead th {\n",
       "        text-align: right;\n",
       "    }\n",
       "</style>\n",
       "<table border=\"1\" class=\"dataframe\">\n",
       "  <thead>\n",
       "    <tr style=\"text-align: right;\">\n",
       "      <th></th>\n",
       "      <th>column</th>\n",
       "      <th>unique</th>\n",
       "    </tr>\n",
       "  </thead>\n",
       "  <tbody>\n",
       "    <tr>\n",
       "      <th>0</th>\n",
       "      <td>id</td>\n",
       "      <td>456548</td>\n",
       "    </tr>\n",
       "    <tr>\n",
       "      <th>1</th>\n",
       "      <td>week</td>\n",
       "      <td>145</td>\n",
       "    </tr>\n",
       "    <tr>\n",
       "      <th>2</th>\n",
       "      <td>center_id</td>\n",
       "      <td>77</td>\n",
       "    </tr>\n",
       "    <tr>\n",
       "      <th>3</th>\n",
       "      <td>meal_id</td>\n",
       "      <td>51</td>\n",
       "    </tr>\n",
       "    <tr>\n",
       "      <th>4</th>\n",
       "      <td>checkout_price</td>\n",
       "      <td>1992</td>\n",
       "    </tr>\n",
       "    <tr>\n",
       "      <th>5</th>\n",
       "      <td>base_price</td>\n",
       "      <td>1907</td>\n",
       "    </tr>\n",
       "    <tr>\n",
       "      <th>6</th>\n",
       "      <td>emailer_for_promotion</td>\n",
       "      <td>2</td>\n",
       "    </tr>\n",
       "    <tr>\n",
       "      <th>7</th>\n",
       "      <td>homepage_featured</td>\n",
       "      <td>2</td>\n",
       "    </tr>\n",
       "    <tr>\n",
       "      <th>8</th>\n",
       "      <td>num_orders</td>\n",
       "      <td>1250</td>\n",
       "    </tr>\n",
       "  </tbody>\n",
       "</table>\n",
       "</div>"
      ],
      "text/plain": [
       "                  column  unique\n",
       "0                     id  456548\n",
       "1                   week     145\n",
       "2              center_id      77\n",
       "3                meal_id      51\n",
       "4         checkout_price    1992\n",
       "5             base_price    1907\n",
       "6  emailer_for_promotion       2\n",
       "7      homepage_featured       2\n",
       "8             num_orders    1250"
      ]
     },
     "execution_count": 211,
     "metadata": {},
     "output_type": "execute_result"
    }
   ],
   "source": [
    "# number of unique values in columns\n",
    "pd.DataFrame({'column': df_demand.columns, \n",
    "              'unique': [len(df_demand[col].unique()) for col in df_demand.columns]})   "
   ]
  },
  {
   "cell_type": "code",
   "execution_count": 212,
   "metadata": {},
   "outputs": [
    {
     "name": "stdout",
     "output_type": "stream",
     "text": [
      "center_id      0\n",
      "city_code      0\n",
      "region_code    0\n",
      "center_type    0\n",
      "op_area        0\n",
      "dtype: int64 \n",
      "\n",
      "shape: (77, 5) \n",
      "\n",
      "dtype: center_id       object\n",
      "city_code       object\n",
      "region_code     object\n",
      "center_type     object\n",
      "op_area        float64\n",
      "dtype: object\n"
     ]
    },
    {
     "data": {
      "text/html": [
       "<div>\n",
       "<style scoped>\n",
       "    .dataframe tbody tr th:only-of-type {\n",
       "        vertical-align: middle;\n",
       "    }\n",
       "\n",
       "    .dataframe tbody tr th {\n",
       "        vertical-align: top;\n",
       "    }\n",
       "\n",
       "    .dataframe thead th {\n",
       "        text-align: right;\n",
       "    }\n",
       "</style>\n",
       "<table border=\"1\" class=\"dataframe\">\n",
       "  <thead>\n",
       "    <tr style=\"text-align: right;\">\n",
       "      <th></th>\n",
       "      <th>center_id</th>\n",
       "      <th>city_code</th>\n",
       "      <th>region_code</th>\n",
       "      <th>center_type</th>\n",
       "      <th>op_area</th>\n",
       "    </tr>\n",
       "  </thead>\n",
       "  <tbody>\n",
       "    <tr>\n",
       "      <th>0</th>\n",
       "      <td>11</td>\n",
       "      <td>679</td>\n",
       "      <td>56</td>\n",
       "      <td>TYPE_A</td>\n",
       "      <td>3.7</td>\n",
       "    </tr>\n",
       "    <tr>\n",
       "      <th>1</th>\n",
       "      <td>13</td>\n",
       "      <td>590</td>\n",
       "      <td>56</td>\n",
       "      <td>TYPE_B</td>\n",
       "      <td>6.7</td>\n",
       "    </tr>\n",
       "    <tr>\n",
       "      <th>2</th>\n",
       "      <td>124</td>\n",
       "      <td>590</td>\n",
       "      <td>56</td>\n",
       "      <td>TYPE_C</td>\n",
       "      <td>4.0</td>\n",
       "    </tr>\n",
       "    <tr>\n",
       "      <th>3</th>\n",
       "      <td>66</td>\n",
       "      <td>648</td>\n",
       "      <td>34</td>\n",
       "      <td>TYPE_A</td>\n",
       "      <td>4.1</td>\n",
       "    </tr>\n",
       "    <tr>\n",
       "      <th>4</th>\n",
       "      <td>94</td>\n",
       "      <td>632</td>\n",
       "      <td>34</td>\n",
       "      <td>TYPE_C</td>\n",
       "      <td>3.6</td>\n",
       "    </tr>\n",
       "  </tbody>\n",
       "</table>\n",
       "</div>"
      ],
      "text/plain": [
       "  center_id city_code region_code center_type  op_area\n",
       "0        11       679          56      TYPE_A      3.7\n",
       "1        13       590          56      TYPE_B      6.7\n",
       "2       124       590          56      TYPE_C      4.0\n",
       "3        66       648          34      TYPE_A      4.1\n",
       "4        94       632          34      TYPE_C      3.6"
      ]
     },
     "execution_count": 212,
     "metadata": {},
     "output_type": "execute_result"
    }
   ],
   "source": [
    "# fulfillment centers data\n",
    "df_fulfill = pd.read_csv('./Documents/Competitions/Food Demand/train_GzS76OK/fulfilment_center_info.csv',\n",
    "                        dtype={'center_id': str, 'city_code': str, 'region_code': str, 'center_type': str, \n",
    "                               'op_area': float})                         \n",
    "\n",
    "print(df_fulfill.isnull().sum(), '\\n')\n",
    "\n",
    "print('shape:', df_fulfill.shape, '\\n')\n",
    "\n",
    "print('dtype:', df_fulfill.dtypes)\n",
    "\n",
    "df_fulfill.head()"
   ]
  },
  {
   "cell_type": "code",
   "execution_count": 213,
   "metadata": {},
   "outputs": [
    {
     "data": {
      "text/html": [
       "<div>\n",
       "<style scoped>\n",
       "    .dataframe tbody tr th:only-of-type {\n",
       "        vertical-align: middle;\n",
       "    }\n",
       "\n",
       "    .dataframe tbody tr th {\n",
       "        vertical-align: top;\n",
       "    }\n",
       "\n",
       "    .dataframe thead th {\n",
       "        text-align: right;\n",
       "    }\n",
       "</style>\n",
       "<table border=\"1\" class=\"dataframe\">\n",
       "  <thead>\n",
       "    <tr style=\"text-align: right;\">\n",
       "      <th></th>\n",
       "      <th>column</th>\n",
       "      <th>unique</th>\n",
       "    </tr>\n",
       "  </thead>\n",
       "  <tbody>\n",
       "    <tr>\n",
       "      <th>0</th>\n",
       "      <td>center_id</td>\n",
       "      <td>77</td>\n",
       "    </tr>\n",
       "    <tr>\n",
       "      <th>1</th>\n",
       "      <td>city_code</td>\n",
       "      <td>51</td>\n",
       "    </tr>\n",
       "    <tr>\n",
       "      <th>2</th>\n",
       "      <td>region_code</td>\n",
       "      <td>8</td>\n",
       "    </tr>\n",
       "    <tr>\n",
       "      <th>3</th>\n",
       "      <td>center_type</td>\n",
       "      <td>3</td>\n",
       "    </tr>\n",
       "    <tr>\n",
       "      <th>4</th>\n",
       "      <td>op_area</td>\n",
       "      <td>30</td>\n",
       "    </tr>\n",
       "  </tbody>\n",
       "</table>\n",
       "</div>"
      ],
      "text/plain": [
       "        column  unique\n",
       "0    center_id      77\n",
       "1    city_code      51\n",
       "2  region_code       8\n",
       "3  center_type       3\n",
       "4      op_area      30"
      ]
     },
     "execution_count": 213,
     "metadata": {},
     "output_type": "execute_result"
    }
   ],
   "source": [
    "# number of unique values in columns\n",
    "pd.DataFrame({'column': df_fulfill.columns, \n",
    "              'unique': [len(df_fulfill[col].unique()) for col in df_fulfill.columns]})   "
   ]
  },
  {
   "cell_type": "code",
   "execution_count": 214,
   "metadata": {},
   "outputs": [
    {
     "name": "stdout",
     "output_type": "stream",
     "text": [
      "meal_id     0\n",
      "category    0\n",
      "cuisine     0\n",
      "dtype: int64 \n",
      "\n",
      "shape: (51, 3) \n",
      "\n",
      "dtype: meal_id     object\n",
      "category    object\n",
      "cuisine     object\n",
      "dtype: object\n"
     ]
    },
    {
     "data": {
      "text/html": [
       "<div>\n",
       "<style scoped>\n",
       "    .dataframe tbody tr th:only-of-type {\n",
       "        vertical-align: middle;\n",
       "    }\n",
       "\n",
       "    .dataframe tbody tr th {\n",
       "        vertical-align: top;\n",
       "    }\n",
       "\n",
       "    .dataframe thead th {\n",
       "        text-align: right;\n",
       "    }\n",
       "</style>\n",
       "<table border=\"1\" class=\"dataframe\">\n",
       "  <thead>\n",
       "    <tr style=\"text-align: right;\">\n",
       "      <th></th>\n",
       "      <th>meal_id</th>\n",
       "      <th>category</th>\n",
       "      <th>cuisine</th>\n",
       "    </tr>\n",
       "  </thead>\n",
       "  <tbody>\n",
       "    <tr>\n",
       "      <th>0</th>\n",
       "      <td>1885</td>\n",
       "      <td>Beverages</td>\n",
       "      <td>Thai</td>\n",
       "    </tr>\n",
       "    <tr>\n",
       "      <th>1</th>\n",
       "      <td>1993</td>\n",
       "      <td>Beverages</td>\n",
       "      <td>Thai</td>\n",
       "    </tr>\n",
       "    <tr>\n",
       "      <th>2</th>\n",
       "      <td>2539</td>\n",
       "      <td>Beverages</td>\n",
       "      <td>Thai</td>\n",
       "    </tr>\n",
       "    <tr>\n",
       "      <th>3</th>\n",
       "      <td>1248</td>\n",
       "      <td>Beverages</td>\n",
       "      <td>Indian</td>\n",
       "    </tr>\n",
       "    <tr>\n",
       "      <th>4</th>\n",
       "      <td>2631</td>\n",
       "      <td>Beverages</td>\n",
       "      <td>Indian</td>\n",
       "    </tr>\n",
       "  </tbody>\n",
       "</table>\n",
       "</div>"
      ],
      "text/plain": [
       "  meal_id   category cuisine\n",
       "0    1885  Beverages    Thai\n",
       "1    1993  Beverages    Thai\n",
       "2    2539  Beverages    Thai\n",
       "3    1248  Beverages  Indian\n",
       "4    2631  Beverages  Indian"
      ]
     },
     "execution_count": 214,
     "metadata": {},
     "output_type": "execute_result"
    }
   ],
   "source": [
    "# meal being served\n",
    "df_meal = pd.read_csv('./Documents/Competitions/Food Demand/train_GzS76OK/meal_info.csv',\n",
    "                     dtype={'meal_id': str, 'category': str, 'cuisine': str})\n",
    "\n",
    "print(df_meal.isnull().sum(), '\\n')\n",
    "\n",
    "print('shape:', df_meal.shape, '\\n')\n",
    "\n",
    "print('dtype:', df_meal.dtypes)\n",
    "\n",
    "df_meal.head()"
   ]
  },
  {
   "cell_type": "code",
   "execution_count": 215,
   "metadata": {},
   "outputs": [
    {
     "data": {
      "text/html": [
       "<div>\n",
       "<style scoped>\n",
       "    .dataframe tbody tr th:only-of-type {\n",
       "        vertical-align: middle;\n",
       "    }\n",
       "\n",
       "    .dataframe tbody tr th {\n",
       "        vertical-align: top;\n",
       "    }\n",
       "\n",
       "    .dataframe thead th {\n",
       "        text-align: right;\n",
       "    }\n",
       "</style>\n",
       "<table border=\"1\" class=\"dataframe\">\n",
       "  <thead>\n",
       "    <tr style=\"text-align: right;\">\n",
       "      <th></th>\n",
       "      <th>column</th>\n",
       "      <th>unique</th>\n",
       "    </tr>\n",
       "  </thead>\n",
       "  <tbody>\n",
       "    <tr>\n",
       "      <th>0</th>\n",
       "      <td>meal_id</td>\n",
       "      <td>51</td>\n",
       "    </tr>\n",
       "    <tr>\n",
       "      <th>1</th>\n",
       "      <td>category</td>\n",
       "      <td>14</td>\n",
       "    </tr>\n",
       "    <tr>\n",
       "      <th>2</th>\n",
       "      <td>cuisine</td>\n",
       "      <td>4</td>\n",
       "    </tr>\n",
       "  </tbody>\n",
       "</table>\n",
       "</div>"
      ],
      "text/plain": [
       "     column  unique\n",
       "0   meal_id      51\n",
       "1  category      14\n",
       "2   cuisine       4"
      ]
     },
     "execution_count": 215,
     "metadata": {},
     "output_type": "execute_result"
    }
   ],
   "source": [
    "# number of unique values in columns\n",
    "pd.DataFrame({'column': df_meal.columns, \n",
    "              'unique': [len(df_meal[col].unique()) for col in df_meal.columns]})   "
   ]
  },
  {
   "cell_type": "markdown",
   "metadata": {},
   "source": [
    "## Read and Explore Test Data"
   ]
  },
  {
   "cell_type": "code",
   "execution_count": 216,
   "metadata": {
    "scrolled": true
   },
   "outputs": [
    {
     "name": "stdout",
     "output_type": "stream",
     "text": [
      "id                       0\n",
      "week                     0\n",
      "center_id                0\n",
      "meal_id                  0\n",
      "checkout_price           0\n",
      "base_price               0\n",
      "emailer_for_promotion    0\n",
      "homepage_featured        0\n",
      "dtype: int64 \n",
      "\n",
      "shape: (32573, 8) \n",
      "\n",
      "dtype: id                        object\n",
      "week                       int64\n",
      "center_id                 object\n",
      "meal_id                   object\n",
      "checkout_price           float64\n",
      "base_price               float64\n",
      "emailer_for_promotion      int64\n",
      "homepage_featured          int64\n",
      "dtype: object\n"
     ]
    },
    {
     "data": {
      "text/html": [
       "<div>\n",
       "<style scoped>\n",
       "    .dataframe tbody tr th:only-of-type {\n",
       "        vertical-align: middle;\n",
       "    }\n",
       "\n",
       "    .dataframe tbody tr th {\n",
       "        vertical-align: top;\n",
       "    }\n",
       "\n",
       "    .dataframe thead th {\n",
       "        text-align: right;\n",
       "    }\n",
       "</style>\n",
       "<table border=\"1\" class=\"dataframe\">\n",
       "  <thead>\n",
       "    <tr style=\"text-align: right;\">\n",
       "      <th></th>\n",
       "      <th>id</th>\n",
       "      <th>week</th>\n",
       "      <th>center_id</th>\n",
       "      <th>meal_id</th>\n",
       "      <th>checkout_price</th>\n",
       "      <th>base_price</th>\n",
       "      <th>emailer_for_promotion</th>\n",
       "      <th>homepage_featured</th>\n",
       "    </tr>\n",
       "  </thead>\n",
       "  <tbody>\n",
       "    <tr>\n",
       "      <th>0</th>\n",
       "      <td>1028232</td>\n",
       "      <td>146</td>\n",
       "      <td>55</td>\n",
       "      <td>1885</td>\n",
       "      <td>158.11</td>\n",
       "      <td>159.11</td>\n",
       "      <td>0</td>\n",
       "      <td>0</td>\n",
       "    </tr>\n",
       "    <tr>\n",
       "      <th>1</th>\n",
       "      <td>1127204</td>\n",
       "      <td>146</td>\n",
       "      <td>55</td>\n",
       "      <td>1993</td>\n",
       "      <td>160.11</td>\n",
       "      <td>159.11</td>\n",
       "      <td>0</td>\n",
       "      <td>0</td>\n",
       "    </tr>\n",
       "    <tr>\n",
       "      <th>2</th>\n",
       "      <td>1212707</td>\n",
       "      <td>146</td>\n",
       "      <td>55</td>\n",
       "      <td>2539</td>\n",
       "      <td>157.14</td>\n",
       "      <td>159.14</td>\n",
       "      <td>0</td>\n",
       "      <td>0</td>\n",
       "    </tr>\n",
       "    <tr>\n",
       "      <th>3</th>\n",
       "      <td>1082698</td>\n",
       "      <td>146</td>\n",
       "      <td>55</td>\n",
       "      <td>2631</td>\n",
       "      <td>162.02</td>\n",
       "      <td>162.02</td>\n",
       "      <td>0</td>\n",
       "      <td>0</td>\n",
       "    </tr>\n",
       "    <tr>\n",
       "      <th>4</th>\n",
       "      <td>1400926</td>\n",
       "      <td>146</td>\n",
       "      <td>55</td>\n",
       "      <td>1248</td>\n",
       "      <td>163.93</td>\n",
       "      <td>163.93</td>\n",
       "      <td>0</td>\n",
       "      <td>0</td>\n",
       "    </tr>\n",
       "  </tbody>\n",
       "</table>\n",
       "</div>"
      ],
      "text/plain": [
       "        id  week center_id meal_id  checkout_price  base_price  \\\n",
       "0  1028232   146        55    1885          158.11      159.11   \n",
       "1  1127204   146        55    1993          160.11      159.11   \n",
       "2  1212707   146        55    2539          157.14      159.14   \n",
       "3  1082698   146        55    2631          162.02      162.02   \n",
       "4  1400926   146        55    1248          163.93      163.93   \n",
       "\n",
       "   emailer_for_promotion  homepage_featured  \n",
       "0                      0                  0  \n",
       "1                      0                  0  \n",
       "2                      0                  0  \n",
       "3                      0                  0  \n",
       "4                      0                  0  "
      ]
     },
     "execution_count": 216,
     "metadata": {},
     "output_type": "execute_result"
    }
   ],
   "source": [
    "# test data \n",
    "# extention of Excel file, but it is actually csv-file \n",
    "df_test = pd.read_csv('./Documents/Competitions/Food Demand/test_QoiMO9B.xls',\n",
    "                      dtype={'id': str, 'week': int, 'center_id': str, 'meal_id': str, \n",
    "                             'checkout_price': float, 'base_price': float, \n",
    "                             'emailer_for_promotion': int, 'homepage_featured': int})\n",
    "\n",
    "print(df_test.isnull().sum(), '\\n')\n",
    "\n",
    "print('shape:', df_test.shape, '\\n')\n",
    "\n",
    "print('dtype:', df_test.dtypes)\n",
    "\n",
    "df_test.head()"
   ]
  },
  {
   "cell_type": "code",
   "execution_count": 217,
   "metadata": {},
   "outputs": [
    {
     "data": {
      "text/html": [
       "<div>\n",
       "<style scoped>\n",
       "    .dataframe tbody tr th:only-of-type {\n",
       "        vertical-align: middle;\n",
       "    }\n",
       "\n",
       "    .dataframe tbody tr th {\n",
       "        vertical-align: top;\n",
       "    }\n",
       "\n",
       "    .dataframe thead th {\n",
       "        text-align: right;\n",
       "    }\n",
       "</style>\n",
       "<table border=\"1\" class=\"dataframe\">\n",
       "  <thead>\n",
       "    <tr style=\"text-align: right;\">\n",
       "      <th></th>\n",
       "      <th>column</th>\n",
       "      <th>unique</th>\n",
       "    </tr>\n",
       "  </thead>\n",
       "  <tbody>\n",
       "    <tr>\n",
       "      <th>0</th>\n",
       "      <td>id</td>\n",
       "      <td>32573</td>\n",
       "    </tr>\n",
       "    <tr>\n",
       "      <th>1</th>\n",
       "      <td>week</td>\n",
       "      <td>10</td>\n",
       "    </tr>\n",
       "    <tr>\n",
       "      <th>2</th>\n",
       "      <td>center_id</td>\n",
       "      <td>77</td>\n",
       "    </tr>\n",
       "    <tr>\n",
       "      <th>3</th>\n",
       "      <td>meal_id</td>\n",
       "      <td>51</td>\n",
       "    </tr>\n",
       "    <tr>\n",
       "      <th>4</th>\n",
       "      <td>checkout_price</td>\n",
       "      <td>1397</td>\n",
       "    </tr>\n",
       "    <tr>\n",
       "      <th>5</th>\n",
       "      <td>base_price</td>\n",
       "      <td>1179</td>\n",
       "    </tr>\n",
       "    <tr>\n",
       "      <th>6</th>\n",
       "      <td>emailer_for_promotion</td>\n",
       "      <td>2</td>\n",
       "    </tr>\n",
       "    <tr>\n",
       "      <th>7</th>\n",
       "      <td>homepage_featured</td>\n",
       "      <td>2</td>\n",
       "    </tr>\n",
       "  </tbody>\n",
       "</table>\n",
       "</div>"
      ],
      "text/plain": [
       "                  column  unique\n",
       "0                     id   32573\n",
       "1                   week      10\n",
       "2              center_id      77\n",
       "3                meal_id      51\n",
       "4         checkout_price    1397\n",
       "5             base_price    1179\n",
       "6  emailer_for_promotion       2\n",
       "7      homepage_featured       2"
      ]
     },
     "execution_count": 217,
     "metadata": {},
     "output_type": "execute_result"
    }
   ],
   "source": [
    "# number of unique values in columns\n",
    "pd.DataFrame({'column': df_test.columns, \n",
    "              'unique': [len(df_test[col].unique()) for col in df_test.columns]})   "
   ]
  },
  {
   "cell_type": "code",
   "execution_count": 218,
   "metadata": {},
   "outputs": [
    {
     "name": "stdout",
     "output_type": "stream",
     "text": [
      "id            0\n",
      "num_orders    0\n",
      "dtype: int64 \n",
      "\n",
      "shape: (32573, 2) \n",
      "\n",
      "dtype: id            object\n",
      "num_orders     int64\n",
      "dtype: object\n"
     ]
    },
    {
     "data": {
      "text/html": [
       "<div>\n",
       "<style scoped>\n",
       "    .dataframe tbody tr th:only-of-type {\n",
       "        vertical-align: middle;\n",
       "    }\n",
       "\n",
       "    .dataframe tbody tr th {\n",
       "        vertical-align: top;\n",
       "    }\n",
       "\n",
       "    .dataframe thead th {\n",
       "        text-align: right;\n",
       "    }\n",
       "</style>\n",
       "<table border=\"1\" class=\"dataframe\">\n",
       "  <thead>\n",
       "    <tr style=\"text-align: right;\">\n",
       "      <th></th>\n",
       "      <th>id</th>\n",
       "      <th>num_orders</th>\n",
       "    </tr>\n",
       "  </thead>\n",
       "  <tbody>\n",
       "    <tr>\n",
       "      <th>0</th>\n",
       "      <td>1028232</td>\n",
       "      <td>0</td>\n",
       "    </tr>\n",
       "    <tr>\n",
       "      <th>1</th>\n",
       "      <td>1127204</td>\n",
       "      <td>0</td>\n",
       "    </tr>\n",
       "    <tr>\n",
       "      <th>2</th>\n",
       "      <td>1212707</td>\n",
       "      <td>0</td>\n",
       "    </tr>\n",
       "    <tr>\n",
       "      <th>3</th>\n",
       "      <td>1082698</td>\n",
       "      <td>0</td>\n",
       "    </tr>\n",
       "    <tr>\n",
       "      <th>4</th>\n",
       "      <td>1400926</td>\n",
       "      <td>0</td>\n",
       "    </tr>\n",
       "  </tbody>\n",
       "</table>\n",
       "</div>"
      ],
      "text/plain": [
       "        id  num_orders\n",
       "0  1028232           0\n",
       "1  1127204           0\n",
       "2  1212707           0\n",
       "3  1082698           0\n",
       "4  1400926           0"
      ]
     },
     "execution_count": 218,
     "metadata": {},
     "output_type": "execute_result"
    }
   ],
   "source": [
    "# submission file data \n",
    "# extention of Excel file, but it is actually csv-file \n",
    "df_submission = pd.read_csv('./Documents/Competitions/Food Demand/sample_submission_hSlSoT6.xls',\n",
    "                           dtype={'id': str, 'num_orders': int})\n",
    "\n",
    "print(df_submission.isnull().sum(), '\\n')\n",
    "\n",
    "print('shape:', df_submission.shape, '\\n')\n",
    "\n",
    "print('dtype:', df_submission.dtypes)\n",
    "\n",
    "df_submission.head()\n"
   ]
  },
  {
   "cell_type": "code",
   "execution_count": 219,
   "metadata": {},
   "outputs": [
    {
     "data": {
      "text/plain": [
       "False"
      ]
     },
     "execution_count": 219,
     "metadata": {},
     "output_type": "execute_result"
    }
   ],
   "source": [
    "# check if row id in test set is the same as in submission file\n",
    "any(df_test.id != df_submission.id)\n",
    "\n",
    "# they are the same"
   ]
  },
  {
   "cell_type": "markdown",
   "metadata": {},
   "source": [
    "## Naive model  \n",
    "\n",
    "Naive model does not use Time Series approach and not use previous target values to predict the next value.\n",
    "This model uses only yearly week number to navigate in time. \n",
    "The logic is: the pattern of previous years will repeat the next year.  \n",
    "\n",
    "**Modelling steps:**\n",
    "\n",
    "- Merge all avaliable data together, for training and test set\n",
    "- Represent week number as week of the year in range 1-52\n",
    "- Randomly split training data to training and validation subsets\n",
    "- Feed everything into Regression model\n",
    "- Evaluate the model \n"
   ]
  },
  {
   "cell_type": "markdown",
   "metadata": {},
   "source": [
    "## Merging data and Train Test split"
   ]
  },
  {
   "cell_type": "code",
   "execution_count": 220,
   "metadata": {},
   "outputs": [
    {
     "data": {
      "text/plain": [
       "array(['55', '24', '11', '83', '32', '13', '109', '52', '93', '186',\n",
       "       '146', '57', '149', '89', '124', '152', '97', '74', '108', '99',\n",
       "       '66', '94', '91', '20', '34', '137', '92', '126', '36', '162',\n",
       "       '75', '177', '27', '157', '106', '64', '129', '14', '17', '153',\n",
       "       '139', '161', '81', '26', '73', '50', '104', '42', '113', '145',\n",
       "       '53', '72', '67', '174', '29', '77', '41', '30', '76', '59', '88',\n",
       "       '143', '58', '10', '101', '80', '43', '65', '39', '102', '110',\n",
       "       '132', '23', '86', '68', '51', '61'], dtype=object)"
      ]
     },
     "execution_count": 220,
     "metadata": {},
     "output_type": "execute_result"
    }
   ],
   "source": [
    "# merging train data\n",
    "data_train = pd.merge(left=df_demand, right=df_fulfill, how='left', on='center_id')\n",
    "data_train = pd.merge(left=data_train, right=df_meal, how='left', on='meal_id')\n",
    "data_train.head()\n",
    "\n",
    "data_train.center_id.unique()\n"
   ]
  },
  {
   "cell_type": "code",
   "execution_count": 221,
   "metadata": {
    "scrolled": true
   },
   "outputs": [
    {
     "data": {
      "text/plain": [
       "array(['55', '24', '11', '83', '32', '13', '109', '52', '93', '186',\n",
       "       '146', '57', '149', '89', '124', '152', '97', '74', '108', '99',\n",
       "       '66', '94', '91', '20', '34', '137', '92', '126', '36', '162',\n",
       "       '75', '177', '27', '157', '106', '64', '129', '14', '17', '153',\n",
       "       '139', '161', '81', '26', '73', '50', '104', '42', '113', '145',\n",
       "       '53', '72', '67', '174', '29', '77', '41', '30', '76', '59', '88',\n",
       "       '143', '58', '10', '101', '80', '43', '65', '39', '102', '110',\n",
       "       '132', '23', '86', '68', '51', '61'], dtype=object)"
      ]
     },
     "execution_count": 221,
     "metadata": {},
     "output_type": "execute_result"
    }
   ],
   "source": [
    "# merging tets data\n",
    "data_test = pd.merge(left=df_test, right=df_fulfill, how='left', on='center_id')\n",
    "data_test = pd.merge(left=data_test, right=df_meal, how='left', on='meal_id')\n",
    "data_test.head()\n",
    "\n",
    "data_test.center_id.unique()"
   ]
  },
  {
   "cell_type": "code",
   "execution_count": 233,
   "metadata": {},
   "outputs": [
    {
     "name": "stdout",
     "output_type": "stream",
     "text": [
      "X_train.shape: (456548, 13)\n",
      "X_test.shape: (32573, 13)\n",
      "y_train.shape: (456548,)\n"
     ]
    }
   ],
   "source": [
    "# select feature columns\n",
    "feature_columns = ['week', 'center_id', 'meal_id', 'checkout_price', 'base_price',\n",
    "                   'emailer_for_promotion', 'homepage_featured', 'city_code',\n",
    "                   'region_code', 'center_type', 'op_area', 'category', 'cuisine']\n",
    "\n",
    "X_train = data_train[feature_columns]\n",
    "X_test = data_test[feature_columns]\n",
    "y_train = data_train['num_orders']\n",
    "\n",
    "print('X_train.shape:', X_train.shape)\n",
    "print('X_test.shape:', X_test.shape)\n",
    "print('y_train.shape:',y_train.shape)"
   ]
  },
  {
   "cell_type": "code",
   "execution_count": 234,
   "metadata": {},
   "outputs": [
    {
     "name": "stdout",
     "output_type": "stream",
     "text": [
      "[ 1  2  3  4  5  6  7  8  9 10 11 12 13 14 15 16 17 18 19 20 21 22 23 24\n",
      " 25 26 27 28 29 30 31 32 33 34 35 36 37 38 39 40 41 42 43 44 45 46 47 48\n",
      " 49 50 51 52] \n",
      "\n",
      "[42 43 44 45 46 47 48 49 50 51]\n"
     ]
    }
   ],
   "source": [
    "# change week number to 1-52 range\n",
    "\n",
    "if any(data_train['week'] > 52):\n",
    "    a = data_train['week'] % 52 \n",
    "    a[a == 0] = 52\n",
    "    data_train['week'] = a\n",
    "    \n",
    "print(data_train['week'].unique(), '\\n')    \n",
    "    \n",
    "    \n",
    "if any(data_test['week'] > 52):\n",
    "    a = data_test['week'] % 52 \n",
    "    a[a == 0] = 52\n",
    "    data_test['week'] = a\n",
    "    \n",
    "print(data_test['week'].unique())\n"
   ]
  },
  {
   "cell_type": "code",
   "execution_count": 235,
   "metadata": {},
   "outputs": [
    {
     "data": {
      "text/html": [
       "<div>\n",
       "<style scoped>\n",
       "    .dataframe tbody tr th:only-of-type {\n",
       "        vertical-align: middle;\n",
       "    }\n",
       "\n",
       "    .dataframe tbody tr th {\n",
       "        vertical-align: top;\n",
       "    }\n",
       "\n",
       "    .dataframe thead th {\n",
       "        text-align: right;\n",
       "    }\n",
       "</style>\n",
       "<table border=\"1\" class=\"dataframe\">\n",
       "  <thead>\n",
       "    <tr style=\"text-align: right;\">\n",
       "      <th></th>\n",
       "      <th>a</th>\n",
       "      <th>a_root</th>\n",
       "      <th>a_square</th>\n",
       "      <th>a_cube</th>\n",
       "      <th>a_quad</th>\n",
       "      <th>a_log</th>\n",
       "    </tr>\n",
       "  </thead>\n",
       "  <tbody>\n",
       "    <tr>\n",
       "      <th>0</th>\n",
       "      <td>1</td>\n",
       "      <td>1.000000</td>\n",
       "      <td>1</td>\n",
       "      <td>1</td>\n",
       "      <td>1</td>\n",
       "      <td>0.000000</td>\n",
       "    </tr>\n",
       "    <tr>\n",
       "      <th>1</th>\n",
       "      <td>2</td>\n",
       "      <td>1.414214</td>\n",
       "      <td>4</td>\n",
       "      <td>8</td>\n",
       "      <td>16</td>\n",
       "      <td>0.693147</td>\n",
       "    </tr>\n",
       "    <tr>\n",
       "      <th>2</th>\n",
       "      <td>3</td>\n",
       "      <td>1.732051</td>\n",
       "      <td>9</td>\n",
       "      <td>27</td>\n",
       "      <td>81</td>\n",
       "      <td>1.098612</td>\n",
       "    </tr>\n",
       "    <tr>\n",
       "      <th>3</th>\n",
       "      <td>4</td>\n",
       "      <td>2.000000</td>\n",
       "      <td>16</td>\n",
       "      <td>64</td>\n",
       "      <td>256</td>\n",
       "      <td>1.386294</td>\n",
       "    </tr>\n",
       "    <tr>\n",
       "      <th>4</th>\n",
       "      <td>5</td>\n",
       "      <td>2.236068</td>\n",
       "      <td>25</td>\n",
       "      <td>125</td>\n",
       "      <td>625</td>\n",
       "      <td>1.609438</td>\n",
       "    </tr>\n",
       "    <tr>\n",
       "      <th>5</th>\n",
       "      <td>6</td>\n",
       "      <td>2.449490</td>\n",
       "      <td>36</td>\n",
       "      <td>216</td>\n",
       "      <td>1296</td>\n",
       "      <td>1.791759</td>\n",
       "    </tr>\n",
       "    <tr>\n",
       "      <th>6</th>\n",
       "      <td>7</td>\n",
       "      <td>2.645751</td>\n",
       "      <td>49</td>\n",
       "      <td>343</td>\n",
       "      <td>2401</td>\n",
       "      <td>1.945910</td>\n",
       "    </tr>\n",
       "    <tr>\n",
       "      <th>7</th>\n",
       "      <td>8</td>\n",
       "      <td>2.828427</td>\n",
       "      <td>64</td>\n",
       "      <td>512</td>\n",
       "      <td>4096</td>\n",
       "      <td>2.079442</td>\n",
       "    </tr>\n",
       "    <tr>\n",
       "      <th>8</th>\n",
       "      <td>9</td>\n",
       "      <td>3.000000</td>\n",
       "      <td>81</td>\n",
       "      <td>729</td>\n",
       "      <td>6561</td>\n",
       "      <td>2.197225</td>\n",
       "    </tr>\n",
       "  </tbody>\n",
       "</table>\n",
       "</div>"
      ],
      "text/plain": [
       "   a    a_root  a_square  a_cube  a_quad     a_log\n",
       "0  1  1.000000         1       1       1  0.000000\n",
       "1  2  1.414214         4       8      16  0.693147\n",
       "2  3  1.732051         9      27      81  1.098612\n",
       "3  4  2.000000        16      64     256  1.386294\n",
       "4  5  2.236068        25     125     625  1.609438\n",
       "5  6  2.449490        36     216    1296  1.791759\n",
       "6  7  2.645751        49     343    2401  1.945910\n",
       "7  8  2.828427        64     512    4096  2.079442\n",
       "8  9  3.000000        81     729    6561  2.197225"
      ]
     },
     "execution_count": 235,
     "metadata": {},
     "output_type": "execute_result"
    }
   ],
   "source": [
    "def nonlinear_features(x, varname='x'):    \n",
    "    \"\"\"Non-linear features for numeric x\"\"\"\n",
    "    \n",
    "    x05 = np.sqrt(x)\n",
    "    x2 = x**2\n",
    "    x3 = x2*x\n",
    "    x4 = x3*x\n",
    "    xlog = np.log(x)\n",
    "    \n",
    "    features = pd.DataFrame({varname + '_root': x05, varname + '_square': x2, \n",
    "                             varname + '_cube': x3,   varname + '_quad': x4, \n",
    "                             varname + '_log': xlog})    \n",
    "    return features\n",
    "    \n",
    "    \n",
    "df = pd.DataFrame({'a': [1,2,3,4,5,6,7,8,9]})\n",
    "f = nonlinear_features(df.a, varname='a')\n",
    "\n",
    "pd.concat([df, f], axis=1)"
   ]
  },
  {
   "cell_type": "code",
   "execution_count": 236,
   "metadata": {},
   "outputs": [],
   "source": [
    "numeric_vars = ['checkout_price', 'base_price', 'op_area']\n",
    "\n",
    "for var in numeric_vars:\n",
    "    \n",
    "    f = nonlinear_features(X_train[var], varname=var)    \n",
    "    X_train = pd.concat([X_train, f], axis=1) \n",
    "    \n",
    "    f = nonlinear_features(X_test[var], varname=var)\n",
    "    X_test = pd.concat([X_test, f], axis=1) \n",
    "\n",
    "\n"
   ]
  },
  {
   "cell_type": "code",
   "execution_count": 237,
   "metadata": {
    "scrolled": true
   },
   "outputs": [
    {
     "name": "stdout",
     "output_type": "stream",
     "text": [
      "X_train.shape: (456548, 28)\n",
      "X_test.shape: (32573, 28)\n",
      "y_train.shape: (456548,) \n",
      "\n",
      "Index(['week', 'center_id', 'meal_id', 'checkout_price', 'base_price',\n",
      "       'emailer_for_promotion', 'homepage_featured', 'city_code',\n",
      "       'region_code', 'center_type', 'op_area', 'category', 'cuisine',\n",
      "       'checkout_price_root', 'checkout_price_square', 'checkout_price_cube',\n",
      "       'checkout_price_quad', 'checkout_price_log', 'base_price_root',\n",
      "       'base_price_square', 'base_price_cube', 'base_price_quad',\n",
      "       'base_price_log', 'op_area_root', 'op_area_square', 'op_area_cube',\n",
      "       'op_area_quad', 'op_area_log'],\n",
      "      dtype='object') \n",
      "\n",
      "Index(['week', 'center_id', 'meal_id', 'checkout_price', 'base_price',\n",
      "       'emailer_for_promotion', 'homepage_featured', 'city_code',\n",
      "       'region_code', 'center_type', 'op_area', 'category', 'cuisine',\n",
      "       'checkout_price_root', 'checkout_price_square', 'checkout_price_cube',\n",
      "       'checkout_price_quad', 'checkout_price_log', 'base_price_root',\n",
      "       'base_price_square', 'base_price_cube', 'base_price_quad',\n",
      "       'base_price_log', 'op_area_root', 'op_area_square', 'op_area_cube',\n",
      "       'op_area_quad', 'op_area_log'],\n",
      "      dtype='object')\n"
     ]
    }
   ],
   "source": [
    "print('X_train.shape:', X_train.shape)\n",
    "print('X_test.shape:', X_test.shape)\n",
    "print('y_train.shape:',y_train.shape, '\\n')\n",
    "print(X_train.columns, '\\n')\n",
    "print(X_test.columns)\n"
   ]
  },
  {
   "cell_type": "code",
   "execution_count": 239,
   "metadata": {},
   "outputs": [],
   "source": [
    "# ensure labels of categorical vars\n",
    "categorical_vars = X_train.columns[X_train.dtypes == 'object']\n",
    "\n",
    "for var in categorical_vars:\n",
    "    categories = X_train[var].append(X_test[var]).unique()\n",
    "    X_train[var] = pd.Categorical(X_train[var], categories=categories, ordered=False)\n",
    "    X_test[var] = pd.Categorical(X_test[var], categories=categories, ordered=False)\n",
    "    "
   ]
  },
  {
   "cell_type": "code",
   "execution_count": 244,
   "metadata": {},
   "outputs": [
    {
     "name": "stdout",
     "output_type": "stream",
     "text": [
      "X_train.shape: (456548, 222)\n",
      "X_test.shape: (32573, 222)\n"
     ]
    }
   ],
   "source": [
    "# dummy encoding\n",
    "X_train = pd.get_dummies(X_train, drop_first=True)\n",
    "X_test = pd.get_dummies(X_test, drop_first=True)\n",
    "\n",
    "print('X_train.shape:', X_train.shape)\n",
    "print('X_test.shape:', X_test.shape)\n"
   ]
  },
  {
   "cell_type": "code",
   "execution_count": null,
   "metadata": {},
   "outputs": [],
   "source": [
    "# Scale data\n",
    "\n",
    "#from sklearn.preprocessing import StandardScaler\n",
    "\n",
    "#scaler = StandardScaler()\n",
    "#scaler.fit(X_train)\n",
    "#X_train = scaler.transform(X_train)\n",
    "#X_test = scaler.transform(X_test)\n"
   ]
  },
  {
   "cell_type": "code",
   "execution_count": 261,
   "metadata": {},
   "outputs": [],
   "source": [
    "# training and validation sets\n",
    "\n",
    "from sklearn.model_selection import train_test_split\n",
    "\n",
    "X_train_sub, X_valid, y_train_sub, y_valid = train_test_split(X_train, y_train, test_size=0.5, random_state=42)\n"
   ]
  },
  {
   "cell_type": "markdown",
   "metadata": {},
   "source": [
    "## Evaluation Metric"
   ]
  },
  {
   "cell_type": "code",
   "execution_count": 246,
   "metadata": {},
   "outputs": [],
   "source": [
    "# Evaluation Metric = 100 * RMSLE \n",
    "# RMSLE is Root of Mean Squared Logarithmic Error across all entries in the test set\n",
    "\n",
    "from sklearn.metrics import mean_squared_log_error\n",
    "\n",
    "def predict_evaluate(model, X, y):\n",
    "    # predict with a model\n",
    "    y_predicted = model.predict(X).round()\n",
    "\n",
    "    # trunkate negative velues to zeros\n",
    "    y_predicted[y_predicted < 0] = 0\n",
    "        \n",
    "    return mean_squared_log_error(y_true=y, y_pred=y_predicted)\n"
   ]
  },
  {
   "cell_type": "markdown",
   "metadata": {},
   "source": [
    "## Linear models"
   ]
  },
  {
   "cell_type": "code",
   "execution_count": 262,
   "metadata": {},
   "outputs": [
    {
     "name": "stderr",
     "output_type": "stream",
     "text": [
      "/Users/alekseyshipitsyn/anaconda3/lib/python3.7/site-packages/sklearn/linear_model/coordinate_descent.py:475: ConvergenceWarning: Objective did not converge. You might want to increase the number of iterations. Duality gap: 61688734.04790115, tolerance: 3520667.7930129715\n",
      "  positive)\n"
     ]
    }
   ],
   "source": [
    "# Linear models\n",
    "from sklearn.linear_model import LinearRegression, Ridge, Lasso\n",
    "\n",
    "# train on training subset\n",
    "linear_model = LinearRegression(normalize=True).fit(X_train_sub, y_train_sub)\n",
    "ridge_model = Ridge(normalize=True, alpha=0.1).fit(X_train_sub, y_train_sub)\n",
    "lasso_model = Lasso(normalize=True, alpha=0.001).fit(X_train_sub, y_train_sub)\n"
   ]
  },
  {
   "cell_type": "code",
   "execution_count": 263,
   "metadata": {},
   "outputs": [
    {
     "name": "stdout",
     "output_type": "stream",
     "text": [
      "RMSLE Linear model on validation set: 3.0726880435216586\n",
      "RMSLE Ridge model on validation set: 2.6320932222467723\n",
      "RMSLE Lasso model on validation set: 2.911348798264864\n"
     ]
    }
   ],
   "source": [
    "# evaluation on validation set\n",
    "print('RMSLE Linear model on validation set:', predict_evaluate(linear_model, X_valid, y_valid))\n",
    "print('RMSLE Ridge model on validation set:', predict_evaluate(ridge_model, X_valid, y_valid))\n",
    "print('RMSLE Lasso model on validation set:', predict_evaluate(lasso_model, X_valid, y_valid))\n"
   ]
  },
  {
   "cell_type": "code",
   "execution_count": 250,
   "metadata": {},
   "outputs": [
    {
     "name": "stderr",
     "output_type": "stream",
     "text": [
      "/Users/alekseyshipitsyn/anaconda3/lib/python3.7/site-packages/sklearn/linear_model/coordinate_descent.py:475: ConvergenceWarning: Objective did not converge. You might want to increase the number of iterations. Duality gap: 18172717.867492676, tolerance: 7156596.187752233\n",
      "  positive)\n"
     ]
    }
   ],
   "source": [
    "# retrain models on the whole training data\n",
    "linear_model = LinearRegression(normalize=True).fit(X_train, y_train)\n",
    "ridge_model = Ridge(normalize=True, alpha=0.1).fit(X_train, y_train)\n",
    "lasso_model = Lasso(normalize=True, alpha=0.001).fit(X_train, y_train)\n"
   ]
  },
  {
   "cell_type": "code",
   "execution_count": 251,
   "metadata": {},
   "outputs": [
    {
     "name": "stdout",
     "output_type": "stream",
     "text": [
      "RMSLE Linear model on training data: 3.0648370875919095\n",
      "RMSLE Ridge model on training data: 2.626183637955585\n",
      "RMSLE Lasso model on training data: 2.886360110730599\n"
     ]
    }
   ],
   "source": [
    "# evaluation on the whole training data\n",
    "print('RMSLE Linear model on training data:', predict_evaluate(linear_model, X_train, y_train))\n",
    "print('RMSLE Ridge model on training data:', predict_evaluate(ridge_model, X_train, y_train))\n",
    "print('RMSLE Lasso model on training data:', predict_evaluate(lasso_model, X_train, y_train))\n"
   ]
  },
  {
   "cell_type": "code",
   "execution_count": null,
   "metadata": {},
   "outputs": [],
   "source": [
    "# Variable importance from Ridge coefficients \n",
    "print('Intercept:', ridge_model.coef_,'\\n')\n",
    "print('Coefficients:\\n' ridge_model.coef_)\n"
   ]
  },
  {
   "cell_type": "markdown",
   "metadata": {},
   "source": [
    "## Advanced models"
   ]
  },
  {
   "cell_type": "code",
   "execution_count": 264,
   "metadata": {
    "scrolled": true
   },
   "outputs": [],
   "source": [
    "# SVM - very slow but good, RMSLE = 0.84\n",
    "from sklearn.svm import SVR\n",
    "\n",
    "svm_model = SVR(gamma='scale').fit(X_train_sub, y_train_sub)\n"
   ]
  },
  {
   "cell_type": "code",
   "execution_count": 265,
   "metadata": {},
   "outputs": [],
   "source": [
    "# # evaluate - very slow\n",
    "# print('RMSLE SVM model on validation set:', predict_evaluate(svm_model, X_valid, y_valid))\n",
    "\n",
    "# no sense to retrain on the whole training set, use as it is"
   ]
  },
  {
   "cell_type": "code",
   "execution_count": 275,
   "metadata": {},
   "outputs": [],
   "source": [
    "# XGboost \n",
    "from sklearn.ensemble import GradientBoostingRegressor\n",
    "\n",
    "# train on training subset \n",
    "params = {'n_estimators': 1000,'learning_rate': 0.01, 'loss': 'ls', 'random_state': 42 }\n"
   ]
  },
  {
   "cell_type": "code",
   "execution_count": null,
   "metadata": {},
   "outputs": [],
   "source": [
    "xgboost_model = GradientBoostingRegressor(**params).fit(X_train_sub, y_train_sub)"
   ]
  },
  {
   "cell_type": "code",
   "execution_count": 270,
   "metadata": {},
   "outputs": [
    {
     "name": "stdout",
     "output_type": "stream",
     "text": [
      "RMSLE XGboost model on validation set: 0.7595496188999313\n"
     ]
    }
   ],
   "source": [
    "print('RMSLE XGboost model on validation set:', predict_evaluate(xgboost_model, X_valid, y_valid))"
   ]
  },
  {
   "cell_type": "code",
   "execution_count": 276,
   "metadata": {},
   "outputs": [],
   "source": [
    "# retrain on all training data\n",
    "xgboost_model = GradientBoostingRegressor(**params).fit(X_train, y_train)\n"
   ]
  },
  {
   "cell_type": "code",
   "execution_count": 277,
   "metadata": {},
   "outputs": [
    {
     "name": "stdout",
     "output_type": "stream",
     "text": [
      "RMSLE XGboost model on training data: 0.7238038432297658\n"
     ]
    }
   ],
   "source": [
    "print('RMSLE XGboost model on training data:', predict_evaluate(xgboost_model, X_train, y_train))"
   ]
  },
  {
   "cell_type": "markdown",
   "metadata": {},
   "source": [
    "## Final model prediction and submission\n",
    "\n",
    "\n"
   ]
  },
  {
   "cell_type": "code",
   "execution_count": 278,
   "metadata": {},
   "outputs": [
    {
     "name": "stdout",
     "output_type": "stream",
     "text": [
      "        id  num_orders\n",
      "0  1028232         163\n",
      "1  1127204         201\n",
      "2  1212707         138\n",
      "3  1082698          39\n",
      "4  1400926          24\n"
     ]
    }
   ],
   "source": [
    "final_model = xgboost_model\n",
    "\n",
    "y_test_predicted = final_model.predict(X_test).astype(int)\n",
    "\n",
    "# trunkate negative values to zeros\n",
    "y_test_predicted[y_test_predicted < 0] = 0\n",
    "\n",
    "df_submission['num_orders'] = y_test_predicted\n",
    "\n",
    "print(df_submission.head())\n",
    "\n",
    "df_submission.to_csv('./Documents/Competitions/Food Demand/submission_5.csv', index=False)\n",
    "\n"
   ]
  },
  {
   "cell_type": "code",
   "execution_count": null,
   "metadata": {},
   "outputs": [],
   "source": [
    "svm_model"
   ]
  },
  {
   "cell_type": "code",
   "execution_count": 290,
   "metadata": {},
   "outputs": [
    {
     "name": "stdout",
     "output_type": "stream",
     "text": [
      "Acheaved rank is 618 from 6450 participants, or top 9.58 %\n"
     ]
    }
   ],
   "source": [
    "# rank at submission\n",
    "rank = 618\n",
    "participants = 6450\n",
    "print('Acheaved rank is {} from {} participants, or top {} %'.format(\n",
    "            rank, participants, round(100*rank/participants, 2)))"
   ]
  },
  {
   "cell_type": "code",
   "execution_count": null,
   "metadata": {},
   "outputs": [],
   "source": []
  },
  {
   "cell_type": "code",
   "execution_count": null,
   "metadata": {},
   "outputs": [],
   "source": []
  },
  {
   "cell_type": "code",
   "execution_count": null,
   "metadata": {},
   "outputs": [],
   "source": []
  }
 ],
 "metadata": {
  "kernelspec": {
   "display_name": "Python 3",
   "language": "python",
   "name": "python3"
  },
  "language_info": {
   "codemirror_mode": {
    "name": "ipython",
    "version": 3
   },
   "file_extension": ".py",
   "mimetype": "text/x-python",
   "name": "python",
   "nbconvert_exporter": "python",
   "pygments_lexer": "ipython3",
   "version": "3.7.3"
  }
 },
 "nbformat": 4,
 "nbformat_minor": 2
}
